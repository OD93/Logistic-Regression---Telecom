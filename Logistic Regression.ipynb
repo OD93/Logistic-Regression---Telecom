{
 "cells": [
  {
   "cell_type": "code",
   "execution_count": 1,
   "id": "437cb71b-7b21-46f8-951d-fd98fc9d797c",
   "metadata": {},
   "outputs": [
    {
     "data": {
      "text/html": [
       "<div>\n",
       "<style scoped>\n",
       "    .dataframe tbody tr th:only-of-type {\n",
       "        vertical-align: middle;\n",
       "    }\n",
       "\n",
       "    .dataframe tbody tr th {\n",
       "        vertical-align: top;\n",
       "    }\n",
       "\n",
       "    .dataframe thead th {\n",
       "        text-align: right;\n",
       "    }\n",
       "</style>\n",
       "<table border=\"1\" class=\"dataframe\">\n",
       "  <thead>\n",
       "    <tr style=\"text-align: right;\">\n",
       "      <th></th>\n",
       "      <th>customerID</th>\n",
       "      <th>gender</th>\n",
       "      <th>SeniorCitizen</th>\n",
       "      <th>Partner</th>\n",
       "      <th>Dependents</th>\n",
       "      <th>MultipleLines</th>\n",
       "      <th>InternetService</th>\n",
       "      <th>OnlineSecurity</th>\n",
       "      <th>OnlineBackup</th>\n",
       "      <th>DeviceProtection</th>\n",
       "      <th>...</th>\n",
       "      <th>StreamingMovies</th>\n",
       "      <th>Unnamed: 13</th>\n",
       "      <th>tenure</th>\n",
       "      <th>PhoneService</th>\n",
       "      <th>Contract</th>\n",
       "      <th>PaperlessBilling</th>\n",
       "      <th>PaymentMethod</th>\n",
       "      <th>MonthlyCharges</th>\n",
       "      <th>TotalCharges</th>\n",
       "      <th>Churn</th>\n",
       "    </tr>\n",
       "  </thead>\n",
       "  <tbody>\n",
       "    <tr>\n",
       "      <th>0</th>\n",
       "      <td>7590-VHVEG</td>\n",
       "      <td>Female</td>\n",
       "      <td>0</td>\n",
       "      <td>Yes</td>\n",
       "      <td>No</td>\n",
       "      <td>No phone service</td>\n",
       "      <td>DSL</td>\n",
       "      <td>No</td>\n",
       "      <td>Yes</td>\n",
       "      <td>No</td>\n",
       "      <td>...</td>\n",
       "      <td>No</td>\n",
       "      <td>NaN</td>\n",
       "      <td>1</td>\n",
       "      <td>No</td>\n",
       "      <td>Month-to-month</td>\n",
       "      <td>Yes</td>\n",
       "      <td>Electronic check</td>\n",
       "      <td>29.85</td>\n",
       "      <td>29.85</td>\n",
       "      <td>No</td>\n",
       "    </tr>\n",
       "    <tr>\n",
       "      <th>1</th>\n",
       "      <td>5575-GNVDE</td>\n",
       "      <td>Male</td>\n",
       "      <td>0</td>\n",
       "      <td>No</td>\n",
       "      <td>No</td>\n",
       "      <td>No</td>\n",
       "      <td>DSL</td>\n",
       "      <td>Yes</td>\n",
       "      <td>No</td>\n",
       "      <td>Yes</td>\n",
       "      <td>...</td>\n",
       "      <td>No</td>\n",
       "      <td>NaN</td>\n",
       "      <td>34</td>\n",
       "      <td>Yes</td>\n",
       "      <td>One year</td>\n",
       "      <td>No</td>\n",
       "      <td>Mailed check</td>\n",
       "      <td>56.95</td>\n",
       "      <td>1889.5</td>\n",
       "      <td>No</td>\n",
       "    </tr>\n",
       "    <tr>\n",
       "      <th>2</th>\n",
       "      <td>3668-QPYBK</td>\n",
       "      <td>Male</td>\n",
       "      <td>0</td>\n",
       "      <td>No</td>\n",
       "      <td>No</td>\n",
       "      <td>No</td>\n",
       "      <td>DSL</td>\n",
       "      <td>Yes</td>\n",
       "      <td>Yes</td>\n",
       "      <td>No</td>\n",
       "      <td>...</td>\n",
       "      <td>No</td>\n",
       "      <td>NaN</td>\n",
       "      <td>2</td>\n",
       "      <td>Yes</td>\n",
       "      <td>Month-to-month</td>\n",
       "      <td>Yes</td>\n",
       "      <td>Mailed check</td>\n",
       "      <td>53.85</td>\n",
       "      <td>108.15</td>\n",
       "      <td>Yes</td>\n",
       "    </tr>\n",
       "    <tr>\n",
       "      <th>3</th>\n",
       "      <td>7795-CFOCW</td>\n",
       "      <td>Male</td>\n",
       "      <td>0</td>\n",
       "      <td>No</td>\n",
       "      <td>No</td>\n",
       "      <td>No phone service</td>\n",
       "      <td>DSL</td>\n",
       "      <td>Yes</td>\n",
       "      <td>No</td>\n",
       "      <td>Yes</td>\n",
       "      <td>...</td>\n",
       "      <td>No</td>\n",
       "      <td>NaN</td>\n",
       "      <td>45</td>\n",
       "      <td>No</td>\n",
       "      <td>One year</td>\n",
       "      <td>No</td>\n",
       "      <td>Bank transfer (automatic)</td>\n",
       "      <td>42.30</td>\n",
       "      <td>1840.75</td>\n",
       "      <td>No</td>\n",
       "    </tr>\n",
       "    <tr>\n",
       "      <th>4</th>\n",
       "      <td>9237-HQITU</td>\n",
       "      <td>Female</td>\n",
       "      <td>0</td>\n",
       "      <td>No</td>\n",
       "      <td>No</td>\n",
       "      <td>No</td>\n",
       "      <td>Fiber optic</td>\n",
       "      <td>No</td>\n",
       "      <td>No</td>\n",
       "      <td>No</td>\n",
       "      <td>...</td>\n",
       "      <td>No</td>\n",
       "      <td>NaN</td>\n",
       "      <td>2</td>\n",
       "      <td>Yes</td>\n",
       "      <td>Month-to-month</td>\n",
       "      <td>Yes</td>\n",
       "      <td>Electronic check</td>\n",
       "      <td>70.70</td>\n",
       "      <td>151.65</td>\n",
       "      <td>Yes</td>\n",
       "    </tr>\n",
       "    <tr>\n",
       "      <th>...</th>\n",
       "      <td>...</td>\n",
       "      <td>...</td>\n",
       "      <td>...</td>\n",
       "      <td>...</td>\n",
       "      <td>...</td>\n",
       "      <td>...</td>\n",
       "      <td>...</td>\n",
       "      <td>...</td>\n",
       "      <td>...</td>\n",
       "      <td>...</td>\n",
       "      <td>...</td>\n",
       "      <td>...</td>\n",
       "      <td>...</td>\n",
       "      <td>...</td>\n",
       "      <td>...</td>\n",
       "      <td>...</td>\n",
       "      <td>...</td>\n",
       "      <td>...</td>\n",
       "      <td>...</td>\n",
       "      <td>...</td>\n",
       "      <td>...</td>\n",
       "    </tr>\n",
       "    <tr>\n",
       "      <th>7037</th>\n",
       "      <td>2569-WGERO</td>\n",
       "      <td>Female</td>\n",
       "      <td>0</td>\n",
       "      <td>No</td>\n",
       "      <td>No</td>\n",
       "      <td>No</td>\n",
       "      <td>No</td>\n",
       "      <td>No internet service</td>\n",
       "      <td>No internet service</td>\n",
       "      <td>No internet service</td>\n",
       "      <td>...</td>\n",
       "      <td>No internet service</td>\n",
       "      <td>NaN</td>\n",
       "      <td>72</td>\n",
       "      <td>Yes</td>\n",
       "      <td>Two year</td>\n",
       "      <td>Yes</td>\n",
       "      <td>Bank transfer (automatic)</td>\n",
       "      <td>21.15</td>\n",
       "      <td>1419.4</td>\n",
       "      <td>No</td>\n",
       "    </tr>\n",
       "    <tr>\n",
       "      <th>7038</th>\n",
       "      <td>6840-RESVB</td>\n",
       "      <td>Male</td>\n",
       "      <td>0</td>\n",
       "      <td>Yes</td>\n",
       "      <td>Yes</td>\n",
       "      <td>Yes</td>\n",
       "      <td>DSL</td>\n",
       "      <td>Yes</td>\n",
       "      <td>No</td>\n",
       "      <td>Yes</td>\n",
       "      <td>...</td>\n",
       "      <td>Yes</td>\n",
       "      <td>NaN</td>\n",
       "      <td>24</td>\n",
       "      <td>Yes</td>\n",
       "      <td>One year</td>\n",
       "      <td>Yes</td>\n",
       "      <td>Mailed check</td>\n",
       "      <td>84.80</td>\n",
       "      <td>1990.5</td>\n",
       "      <td>No</td>\n",
       "    </tr>\n",
       "    <tr>\n",
       "      <th>7039</th>\n",
       "      <td>2234-XADUH</td>\n",
       "      <td>Female</td>\n",
       "      <td>0</td>\n",
       "      <td>Yes</td>\n",
       "      <td>Yes</td>\n",
       "      <td>Yes</td>\n",
       "      <td>Fiber optic</td>\n",
       "      <td>No</td>\n",
       "      <td>Yes</td>\n",
       "      <td>Yes</td>\n",
       "      <td>...</td>\n",
       "      <td>Yes</td>\n",
       "      <td>NaN</td>\n",
       "      <td>72</td>\n",
       "      <td>Yes</td>\n",
       "      <td>One year</td>\n",
       "      <td>Yes</td>\n",
       "      <td>Credit card (automatic)</td>\n",
       "      <td>103.20</td>\n",
       "      <td>7362.9</td>\n",
       "      <td>No</td>\n",
       "    </tr>\n",
       "    <tr>\n",
       "      <th>7040</th>\n",
       "      <td>4801-JZAZL</td>\n",
       "      <td>Female</td>\n",
       "      <td>0</td>\n",
       "      <td>Yes</td>\n",
       "      <td>Yes</td>\n",
       "      <td>No phone service</td>\n",
       "      <td>DSL</td>\n",
       "      <td>Yes</td>\n",
       "      <td>No</td>\n",
       "      <td>No</td>\n",
       "      <td>...</td>\n",
       "      <td>No</td>\n",
       "      <td>NaN</td>\n",
       "      <td>11</td>\n",
       "      <td>No</td>\n",
       "      <td>Month-to-month</td>\n",
       "      <td>Yes</td>\n",
       "      <td>Electronic check</td>\n",
       "      <td>29.60</td>\n",
       "      <td>346.45</td>\n",
       "      <td>No</td>\n",
       "    </tr>\n",
       "    <tr>\n",
       "      <th>7041</th>\n",
       "      <td>8361-LTMKD</td>\n",
       "      <td>Male</td>\n",
       "      <td>1</td>\n",
       "      <td>Yes</td>\n",
       "      <td>No</td>\n",
       "      <td>Yes</td>\n",
       "      <td>Fiber optic</td>\n",
       "      <td>No</td>\n",
       "      <td>No</td>\n",
       "      <td>No</td>\n",
       "      <td>...</td>\n",
       "      <td>No</td>\n",
       "      <td>NaN</td>\n",
       "      <td>4</td>\n",
       "      <td>Yes</td>\n",
       "      <td>Month-to-month</td>\n",
       "      <td>Yes</td>\n",
       "      <td>Mailed check</td>\n",
       "      <td>74.40</td>\n",
       "      <td>306.6</td>\n",
       "      <td>Yes</td>\n",
       "    </tr>\n",
       "  </tbody>\n",
       "</table>\n",
       "<p>7042 rows × 22 columns</p>\n",
       "</div>"
      ],
      "text/plain": [
       "      customerID  gender  SeniorCitizen Partner Dependents     MultipleLines  \\\n",
       "0     7590-VHVEG  Female              0     Yes         No  No phone service   \n",
       "1     5575-GNVDE    Male              0      No         No                No   \n",
       "2     3668-QPYBK    Male              0      No         No                No   \n",
       "3     7795-CFOCW    Male              0      No         No  No phone service   \n",
       "4     9237-HQITU  Female              0      No         No                No   \n",
       "...          ...     ...            ...     ...        ...               ...   \n",
       "7037  2569-WGERO  Female              0      No         No                No   \n",
       "7038  6840-RESVB    Male              0     Yes        Yes               Yes   \n",
       "7039  2234-XADUH  Female              0     Yes        Yes               Yes   \n",
       "7040  4801-JZAZL  Female              0     Yes        Yes  No phone service   \n",
       "7041  8361-LTMKD    Male              1     Yes         No               Yes   \n",
       "\n",
       "     InternetService       OnlineSecurity         OnlineBackup  \\\n",
       "0                DSL                   No                  Yes   \n",
       "1                DSL                  Yes                   No   \n",
       "2                DSL                  Yes                  Yes   \n",
       "3                DSL                  Yes                   No   \n",
       "4        Fiber optic                   No                   No   \n",
       "...              ...                  ...                  ...   \n",
       "7037              No  No internet service  No internet service   \n",
       "7038             DSL                  Yes                   No   \n",
       "7039     Fiber optic                   No                  Yes   \n",
       "7040             DSL                  Yes                   No   \n",
       "7041     Fiber optic                   No                   No   \n",
       "\n",
       "         DeviceProtection  ...      StreamingMovies Unnamed: 13 tenure  \\\n",
       "0                      No  ...                   No         NaN      1   \n",
       "1                     Yes  ...                   No         NaN     34   \n",
       "2                      No  ...                   No         NaN      2   \n",
       "3                     Yes  ...                   No         NaN     45   \n",
       "4                      No  ...                   No         NaN      2   \n",
       "...                   ...  ...                  ...         ...    ...   \n",
       "7037  No internet service  ...  No internet service         NaN     72   \n",
       "7038                  Yes  ...                  Yes         NaN     24   \n",
       "7039                  Yes  ...                  Yes         NaN     72   \n",
       "7040                   No  ...                   No         NaN     11   \n",
       "7041                   No  ...                   No         NaN      4   \n",
       "\n",
       "      PhoneService        Contract PaperlessBilling  \\\n",
       "0               No  Month-to-month              Yes   \n",
       "1              Yes        One year               No   \n",
       "2              Yes  Month-to-month              Yes   \n",
       "3               No        One year               No   \n",
       "4              Yes  Month-to-month              Yes   \n",
       "...            ...             ...              ...   \n",
       "7037           Yes        Two year              Yes   \n",
       "7038           Yes        One year              Yes   \n",
       "7039           Yes        One year              Yes   \n",
       "7040            No  Month-to-month              Yes   \n",
       "7041           Yes  Month-to-month              Yes   \n",
       "\n",
       "                  PaymentMethod MonthlyCharges TotalCharges  Churn  \n",
       "0              Electronic check          29.85        29.85     No  \n",
       "1                  Mailed check          56.95       1889.5     No  \n",
       "2                  Mailed check          53.85       108.15    Yes  \n",
       "3     Bank transfer (automatic)          42.30      1840.75     No  \n",
       "4              Electronic check          70.70       151.65    Yes  \n",
       "...                         ...            ...          ...    ...  \n",
       "7037  Bank transfer (automatic)          21.15       1419.4     No  \n",
       "7038               Mailed check          84.80       1990.5     No  \n",
       "7039    Credit card (automatic)         103.20       7362.9     No  \n",
       "7040           Electronic check          29.60       346.45     No  \n",
       "7041               Mailed check          74.40        306.6    Yes  \n",
       "\n",
       "[7042 rows x 22 columns]"
      ]
     },
     "execution_count": 1,
     "metadata": {},
     "output_type": "execute_result"
    }
   ],
   "source": [
    "#Importing Pandas and running the table\n",
    "\n",
    "import pandas as pd\n",
    "tele_df = pd.read_csv('churn_data.csv')\n",
    "tele_df"
   ]
  },
  {
   "cell_type": "code",
   "execution_count": 2,
   "id": "9d0b8333-bcef-4cea-9b68-71d1c4ccadda",
   "metadata": {},
   "outputs": [
    {
     "name": "stdout",
     "output_type": "stream",
     "text": [
      "<class 'pandas.core.frame.DataFrame'>\n",
      "RangeIndex: 7042 entries, 0 to 7041\n",
      "Data columns (total 22 columns):\n",
      " #   Column            Non-Null Count  Dtype  \n",
      "---  ------            --------------  -----  \n",
      " 0   customerID        7042 non-null   object \n",
      " 1   gender            7042 non-null   object \n",
      " 2   SeniorCitizen     7042 non-null   int64  \n",
      " 3   Partner           7042 non-null   object \n",
      " 4   Dependents        7042 non-null   object \n",
      " 5   MultipleLines     7042 non-null   object \n",
      " 6   InternetService   7042 non-null   object \n",
      " 7   OnlineSecurity    7042 non-null   object \n",
      " 8   OnlineBackup      7042 non-null   object \n",
      " 9   DeviceProtection  7042 non-null   object \n",
      " 10  TechSupport       7042 non-null   object \n",
      " 11  StreamingTV       7042 non-null   object \n",
      " 12  StreamingMovies   7042 non-null   object \n",
      " 13  Unnamed: 13       0 non-null      float64\n",
      " 14  tenure            7042 non-null   int64  \n",
      " 15  PhoneService      7042 non-null   object \n",
      " 16  Contract          7042 non-null   object \n",
      " 17  PaperlessBilling  7042 non-null   object \n",
      " 18  PaymentMethod     7042 non-null   object \n",
      " 19  MonthlyCharges    7042 non-null   float64\n",
      " 20  TotalCharges      7042 non-null   object \n",
      " 21  Churn             7042 non-null   object \n",
      "dtypes: float64(2), int64(2), object(18)\n",
      "memory usage: 1.2+ MB\n"
     ]
    }
   ],
   "source": [
    "tele_df.info()"
   ]
  },
  {
   "cell_type": "code",
   "execution_count": 3,
   "id": "2104886a-35ac-4a19-99c1-cd0222bf06ec",
   "metadata": {},
   "outputs": [],
   "source": [
    "#Dropping the columns to make dataset smaller.\n",
    "\n",
    "tele_df.drop(tele_df.columns[[0, 13, 5, 7, 8, 9, 11, 12, 16, 15, 16, 3, 4, 20]], axis = 1, inplace = True)"
   ]
  },
  {
   "cell_type": "code",
   "execution_count": 4,
   "id": "11d28208-574a-45ae-add4-a336fba5b538",
   "metadata": {},
   "outputs": [
    {
     "name": "stdout",
     "output_type": "stream",
     "text": [
      "<class 'pandas.core.frame.DataFrame'>\n",
      "RangeIndex: 7042 entries, 0 to 7041\n",
      "Data columns (total 9 columns):\n",
      " #   Column            Non-Null Count  Dtype  \n",
      "---  ------            --------------  -----  \n",
      " 0   gender            7042 non-null   object \n",
      " 1   SeniorCitizen     7042 non-null   int64  \n",
      " 2   InternetService   7042 non-null   object \n",
      " 3   TechSupport       7042 non-null   object \n",
      " 4   tenure            7042 non-null   int64  \n",
      " 5   PaperlessBilling  7042 non-null   object \n",
      " 6   PaymentMethod     7042 non-null   object \n",
      " 7   MonthlyCharges    7042 non-null   float64\n",
      " 8   Churn             7042 non-null   object \n",
      "dtypes: float64(1), int64(2), object(6)\n",
      "memory usage: 495.3+ KB\n"
     ]
    }
   ],
   "source": [
    "tele_df.info()"
   ]
  },
  {
   "cell_type": "code",
   "execution_count": 5,
   "id": "0262fea5-a20c-49c8-87fc-ed280d26f26b",
   "metadata": {},
   "outputs": [
    {
     "data": {
      "text/plain": [
       "gender              0\n",
       "SeniorCitizen       0\n",
       "InternetService     0\n",
       "TechSupport         0\n",
       "tenure              0\n",
       "PaperlessBilling    0\n",
       "PaymentMethod       0\n",
       "MonthlyCharges      0\n",
       "Churn               0\n",
       "dtype: int64"
      ]
     },
     "execution_count": 5,
     "metadata": {},
     "output_type": "execute_result"
    }
   ],
   "source": [
    "#Checking non-null values.\n",
    "\n",
    "tele_df.isnull().sum()"
   ]
  },
  {
   "cell_type": "markdown",
   "id": "f4390547-9407-45df-9dff-134e7b5818a9",
   "metadata": {},
   "source": [
    "Traing and Validating Test Sets"
   ]
  },
  {
   "cell_type": "code",
   "execution_count": 6,
   "id": "50b20398-d584-4bef-b10b-20341c881a31",
   "metadata": {},
   "outputs": [],
   "source": [
    "from sklearn.model_selection import train_test_split"
   ]
  },
  {
   "cell_type": "code",
   "execution_count": 7,
   "id": "7c4a2f91-cf4a-4bcc-8b03-45c7ba0422ad",
   "metadata": {},
   "outputs": [
    {
     "name": "stdout",
     "output_type": "stream",
     "text": [
      "train_df.shape : (5281, 9)\n",
      "val_df.shape : (1761, 9)\n",
      "test_df.shape : (1409, 9)\n"
     ]
    }
   ],
   "source": [
    "train_val_df, test_df = train_test_split(tele_df, test_size=0.2, random_state=10)\n",
    "train_df, val_df = train_test_split(tele_df, test_size=0.25, random_state=10)\n",
    "\n",
    "print('train_df.shape :', train_df.shape)\n",
    "print('val_df.shape :', val_df.shape)\n",
    "print('test_df.shape :', test_df.shape)"
   ]
  },
  {
   "cell_type": "code",
   "execution_count": 8,
   "id": "9f1c067b-8579-4f39-9200-f188c80de885",
   "metadata": {},
   "outputs": [
    {
     "name": "stdout",
     "output_type": "stream",
     "text": [
      "['gender', 'SeniorCitizen', 'InternetService', 'TechSupport', 'tenure', 'PaperlessBilling', 'PaymentMethod', 'MonthlyCharges']\n"
     ]
    },
    {
     "data": {
      "text/plain": [
       "'Churn'"
      ]
     },
     "execution_count": 8,
     "metadata": {},
     "output_type": "execute_result"
    }
   ],
   "source": [
    "input_cols = list(train_df.columns)[0:-1]\n",
    "target_col = 'Churn'\n",
    "\n",
    "print(input_cols),\n",
    "target_col"
   ]
  },
  {
   "cell_type": "code",
   "execution_count": 9,
   "id": "1cfd03bf-2db5-4d06-8ab7-ef360eaec68a",
   "metadata": {},
   "outputs": [],
   "source": [
    "train_inputs = train_df[input_cols].copy()\n",
    "train_targets = train_df[target_col].copy()"
   ]
  },
  {
   "cell_type": "code",
   "execution_count": 10,
   "id": "e6ff777d-1f0c-4710-90c8-f0acc5698f5d",
   "metadata": {},
   "outputs": [],
   "source": [
    "val_inputs = val_df[input_cols].copy()\n",
    "val_targets = val_df[target_col].copy()"
   ]
  },
  {
   "cell_type": "code",
   "execution_count": 11,
   "id": "6563127b-bcc9-4ed1-ad2c-43dbc5ad1002",
   "metadata": {},
   "outputs": [],
   "source": [
    "test_inputs = test_df[input_cols].copy()\n",
    "test_targets = test_df[target_col].copy()"
   ]
  },
  {
   "cell_type": "code",
   "execution_count": 12,
   "id": "e13f0ffb-e16a-4a2c-b703-1c227f844abe",
   "metadata": {},
   "outputs": [
    {
     "data": {
      "text/html": [
       "<div>\n",
       "<style scoped>\n",
       "    .dataframe tbody tr th:only-of-type {\n",
       "        vertical-align: middle;\n",
       "    }\n",
       "\n",
       "    .dataframe tbody tr th {\n",
       "        vertical-align: top;\n",
       "    }\n",
       "\n",
       "    .dataframe thead th {\n",
       "        text-align: right;\n",
       "    }\n",
       "</style>\n",
       "<table border=\"1\" class=\"dataframe\">\n",
       "  <thead>\n",
       "    <tr style=\"text-align: right;\">\n",
       "      <th></th>\n",
       "      <th>gender</th>\n",
       "      <th>SeniorCitizen</th>\n",
       "      <th>InternetService</th>\n",
       "      <th>TechSupport</th>\n",
       "      <th>tenure</th>\n",
       "      <th>PaperlessBilling</th>\n",
       "      <th>PaymentMethod</th>\n",
       "      <th>MonthlyCharges</th>\n",
       "    </tr>\n",
       "  </thead>\n",
       "  <tbody>\n",
       "    <tr>\n",
       "      <th>6643</th>\n",
       "      <td>Female</td>\n",
       "      <td>1</td>\n",
       "      <td>Fiber optic</td>\n",
       "      <td>No</td>\n",
       "      <td>3</td>\n",
       "      <td>Yes</td>\n",
       "      <td>Bank transfer (automatic)</td>\n",
       "      <td>74.60</td>\n",
       "    </tr>\n",
       "    <tr>\n",
       "      <th>4923</th>\n",
       "      <td>Female</td>\n",
       "      <td>0</td>\n",
       "      <td>DSL</td>\n",
       "      <td>No</td>\n",
       "      <td>52</td>\n",
       "      <td>Yes</td>\n",
       "      <td>Bank transfer (automatic)</td>\n",
       "      <td>49.75</td>\n",
       "    </tr>\n",
       "    <tr>\n",
       "      <th>3169</th>\n",
       "      <td>Male</td>\n",
       "      <td>0</td>\n",
       "      <td>DSL</td>\n",
       "      <td>Yes</td>\n",
       "      <td>52</td>\n",
       "      <td>Yes</td>\n",
       "      <td>Electronic check</td>\n",
       "      <td>68.75</td>\n",
       "    </tr>\n",
       "    <tr>\n",
       "      <th>672</th>\n",
       "      <td>Female</td>\n",
       "      <td>0</td>\n",
       "      <td>Fiber optic</td>\n",
       "      <td>No</td>\n",
       "      <td>1</td>\n",
       "      <td>Yes</td>\n",
       "      <td>Mailed check</td>\n",
       "      <td>75.05</td>\n",
       "    </tr>\n",
       "    <tr>\n",
       "      <th>3004</th>\n",
       "      <td>Male</td>\n",
       "      <td>0</td>\n",
       "      <td>Fiber optic</td>\n",
       "      <td>No</td>\n",
       "      <td>1</td>\n",
       "      <td>No</td>\n",
       "      <td>Mailed check</td>\n",
       "      <td>89.15</td>\n",
       "    </tr>\n",
       "    <tr>\n",
       "      <th>...</th>\n",
       "      <td>...</td>\n",
       "      <td>...</td>\n",
       "      <td>...</td>\n",
       "      <td>...</td>\n",
       "      <td>...</td>\n",
       "      <td>...</td>\n",
       "      <td>...</td>\n",
       "      <td>...</td>\n",
       "    </tr>\n",
       "    <tr>\n",
       "      <th>1180</th>\n",
       "      <td>Male</td>\n",
       "      <td>0</td>\n",
       "      <td>DSL</td>\n",
       "      <td>Yes</td>\n",
       "      <td>39</td>\n",
       "      <td>Yes</td>\n",
       "      <td>Bank transfer (automatic)</td>\n",
       "      <td>49.80</td>\n",
       "    </tr>\n",
       "    <tr>\n",
       "      <th>3441</th>\n",
       "      <td>Female</td>\n",
       "      <td>0</td>\n",
       "      <td>DSL</td>\n",
       "      <td>No</td>\n",
       "      <td>34</td>\n",
       "      <td>Yes</td>\n",
       "      <td>Mailed check</td>\n",
       "      <td>60.80</td>\n",
       "    </tr>\n",
       "    <tr>\n",
       "      <th>1344</th>\n",
       "      <td>Female</td>\n",
       "      <td>0</td>\n",
       "      <td>No</td>\n",
       "      <td>No internet service</td>\n",
       "      <td>28</td>\n",
       "      <td>No</td>\n",
       "      <td>Mailed check</td>\n",
       "      <td>20.50</td>\n",
       "    </tr>\n",
       "    <tr>\n",
       "      <th>4623</th>\n",
       "      <td>Male</td>\n",
       "      <td>1</td>\n",
       "      <td>Fiber optic</td>\n",
       "      <td>No</td>\n",
       "      <td>69</td>\n",
       "      <td>Yes</td>\n",
       "      <td>Bank transfer (automatic)</td>\n",
       "      <td>95.35</td>\n",
       "    </tr>\n",
       "    <tr>\n",
       "      <th>1289</th>\n",
       "      <td>Male</td>\n",
       "      <td>0</td>\n",
       "      <td>DSL</td>\n",
       "      <td>Yes</td>\n",
       "      <td>63</td>\n",
       "      <td>No</td>\n",
       "      <td>Bank transfer (automatic)</td>\n",
       "      <td>68.80</td>\n",
       "    </tr>\n",
       "  </tbody>\n",
       "</table>\n",
       "<p>5281 rows × 8 columns</p>\n",
       "</div>"
      ],
      "text/plain": [
       "      gender  SeniorCitizen InternetService          TechSupport  tenure  \\\n",
       "6643  Female              1     Fiber optic                   No       3   \n",
       "4923  Female              0             DSL                   No      52   \n",
       "3169    Male              0             DSL                  Yes      52   \n",
       "672   Female              0     Fiber optic                   No       1   \n",
       "3004    Male              0     Fiber optic                   No       1   \n",
       "...      ...            ...             ...                  ...     ...   \n",
       "1180    Male              0             DSL                  Yes      39   \n",
       "3441  Female              0             DSL                   No      34   \n",
       "1344  Female              0              No  No internet service      28   \n",
       "4623    Male              1     Fiber optic                   No      69   \n",
       "1289    Male              0             DSL                  Yes      63   \n",
       "\n",
       "     PaperlessBilling              PaymentMethod  MonthlyCharges  \n",
       "6643              Yes  Bank transfer (automatic)           74.60  \n",
       "4923              Yes  Bank transfer (automatic)           49.75  \n",
       "3169              Yes           Electronic check           68.75  \n",
       "672               Yes               Mailed check           75.05  \n",
       "3004               No               Mailed check           89.15  \n",
       "...               ...                        ...             ...  \n",
       "1180              Yes  Bank transfer (automatic)           49.80  \n",
       "3441              Yes               Mailed check           60.80  \n",
       "1344               No               Mailed check           20.50  \n",
       "4623              Yes  Bank transfer (automatic)           95.35  \n",
       "1289               No  Bank transfer (automatic)           68.80  \n",
       "\n",
       "[5281 rows x 8 columns]"
      ]
     },
     "execution_count": 12,
     "metadata": {},
     "output_type": "execute_result"
    }
   ],
   "source": [
    "train_inputs"
   ]
  },
  {
   "cell_type": "code",
   "execution_count": 13,
   "id": "6f747a85-02ec-444e-81c1-b9c22ea396c2",
   "metadata": {},
   "outputs": [
    {
     "data": {
      "text/plain": [
       "6643     No\n",
       "4923     No\n",
       "3169     No\n",
       "672     Yes\n",
       "3004    Yes\n",
       "       ... \n",
       "1180     No\n",
       "3441     No\n",
       "1344     No\n",
       "4623     No\n",
       "1289     No\n",
       "Name: Churn, Length: 5281, dtype: object"
      ]
     },
     "execution_count": 13,
     "metadata": {},
     "output_type": "execute_result"
    }
   ],
   "source": [
    "train_targets"
   ]
  },
  {
   "cell_type": "code",
   "execution_count": null,
   "id": "a3cae5cd-b614-4335-916c-fd5009449b42",
   "metadata": {},
   "outputs": [],
   "source": []
  },
  {
   "cell_type": "code",
   "execution_count": null,
   "id": "1a8949a4-9e21-4c68-9f16-7b6cfd3a8268",
   "metadata": {},
   "outputs": [],
   "source": []
  },
  {
   "cell_type": "markdown",
   "id": "5c0969c2-bbf6-4d54-96a1-fa1e1fce0ccc",
   "metadata": {},
   "source": [
    "Checking Numerical and Categorical Columns"
   ]
  },
  {
   "cell_type": "code",
   "execution_count": 14,
   "id": "2b8a51e3-f7f1-4a85-8f56-34459d9c57f3",
   "metadata": {},
   "outputs": [],
   "source": [
    "import numpy as np"
   ]
  },
  {
   "cell_type": "code",
   "execution_count": 15,
   "id": "4689f201-f5f8-40b1-a967-5afb609996cf",
   "metadata": {},
   "outputs": [],
   "source": [
    "numeric_cols = train_inputs.select_dtypes(include=np.number).columns.tolist()\n",
    "categorical_cols = train_inputs.select_dtypes('object').columns.tolist()"
   ]
  },
  {
   "cell_type": "code",
   "execution_count": 16,
   "id": "7563b7fc-ccc8-4db5-a6d6-64a89537aa2c",
   "metadata": {},
   "outputs": [
    {
     "data": {
      "text/html": [
       "<div>\n",
       "<style scoped>\n",
       "    .dataframe tbody tr th:only-of-type {\n",
       "        vertical-align: middle;\n",
       "    }\n",
       "\n",
       "    .dataframe tbody tr th {\n",
       "        vertical-align: top;\n",
       "    }\n",
       "\n",
       "    .dataframe thead th {\n",
       "        text-align: right;\n",
       "    }\n",
       "</style>\n",
       "<table border=\"1\" class=\"dataframe\">\n",
       "  <thead>\n",
       "    <tr style=\"text-align: right;\">\n",
       "      <th></th>\n",
       "      <th>SeniorCitizen</th>\n",
       "      <th>tenure</th>\n",
       "      <th>MonthlyCharges</th>\n",
       "    </tr>\n",
       "  </thead>\n",
       "  <tbody>\n",
       "    <tr>\n",
       "      <th>count</th>\n",
       "      <td>5281.000000</td>\n",
       "      <td>5281.000000</td>\n",
       "      <td>5281.000000</td>\n",
       "    </tr>\n",
       "    <tr>\n",
       "      <th>mean</th>\n",
       "      <td>0.164931</td>\n",
       "      <td>32.291233</td>\n",
       "      <td>64.902689</td>\n",
       "    </tr>\n",
       "    <tr>\n",
       "      <th>std</th>\n",
       "      <td>0.371153</td>\n",
       "      <td>24.528501</td>\n",
       "      <td>29.940486</td>\n",
       "    </tr>\n",
       "    <tr>\n",
       "      <th>min</th>\n",
       "      <td>0.000000</td>\n",
       "      <td>0.000000</td>\n",
       "      <td>18.250000</td>\n",
       "    </tr>\n",
       "    <tr>\n",
       "      <th>25%</th>\n",
       "      <td>0.000000</td>\n",
       "      <td>9.000000</td>\n",
       "      <td>36.050000</td>\n",
       "    </tr>\n",
       "    <tr>\n",
       "      <th>50%</th>\n",
       "      <td>0.000000</td>\n",
       "      <td>29.000000</td>\n",
       "      <td>70.400000</td>\n",
       "    </tr>\n",
       "    <tr>\n",
       "      <th>75%</th>\n",
       "      <td>0.000000</td>\n",
       "      <td>55.000000</td>\n",
       "      <td>89.800000</td>\n",
       "    </tr>\n",
       "    <tr>\n",
       "      <th>max</th>\n",
       "      <td>1.000000</td>\n",
       "      <td>72.000000</td>\n",
       "      <td>118.750000</td>\n",
       "    </tr>\n",
       "  </tbody>\n",
       "</table>\n",
       "</div>"
      ],
      "text/plain": [
       "       SeniorCitizen       tenure  MonthlyCharges\n",
       "count    5281.000000  5281.000000     5281.000000\n",
       "mean        0.164931    32.291233       64.902689\n",
       "std         0.371153    24.528501       29.940486\n",
       "min         0.000000     0.000000       18.250000\n",
       "25%         0.000000     9.000000       36.050000\n",
       "50%         0.000000    29.000000       70.400000\n",
       "75%         0.000000    55.000000       89.800000\n",
       "max         1.000000    72.000000      118.750000"
      ]
     },
     "execution_count": 16,
     "metadata": {},
     "output_type": "execute_result"
    }
   ],
   "source": [
    "train_inputs[numeric_cols].describe()"
   ]
  },
  {
   "cell_type": "code",
   "execution_count": 17,
   "id": "176eda3c-ad7a-46c8-ba3d-c5ce77632d70",
   "metadata": {},
   "outputs": [
    {
     "data": {
      "text/plain": [
       "gender              2\n",
       "InternetService     3\n",
       "TechSupport         3\n",
       "PaperlessBilling    2\n",
       "PaymentMethod       4\n",
       "dtype: int64"
      ]
     },
     "execution_count": 17,
     "metadata": {},
     "output_type": "execute_result"
    }
   ],
   "source": [
    "train_inputs[categorical_cols].nunique()"
   ]
  },
  {
   "cell_type": "code",
   "execution_count": null,
   "id": "9fb0364c-72ca-4bc2-9a79-0a15bc0722b9",
   "metadata": {},
   "outputs": [],
   "source": []
  },
  {
   "cell_type": "code",
   "execution_count": null,
   "id": "77c9d032-cc34-49cb-8ff2-dbbe003d8b4f",
   "metadata": {},
   "outputs": [],
   "source": []
  },
  {
   "cell_type": "markdown",
   "id": "923c2920-bc1f-4c49-9d04-2c82cd41f67e",
   "metadata": {},
   "source": [
    "Scaling Numeric Values"
   ]
  },
  {
   "cell_type": "code",
   "execution_count": 18,
   "id": "39dcbf8c-c978-4f57-b879-d9632ffb34f7",
   "metadata": {},
   "outputs": [
    {
     "data": {
      "text/html": [
       "<div>\n",
       "<style scoped>\n",
       "    .dataframe tbody tr th:only-of-type {\n",
       "        vertical-align: middle;\n",
       "    }\n",
       "\n",
       "    .dataframe tbody tr th {\n",
       "        vertical-align: top;\n",
       "    }\n",
       "\n",
       "    .dataframe thead th {\n",
       "        text-align: right;\n",
       "    }\n",
       "</style>\n",
       "<table border=\"1\" class=\"dataframe\">\n",
       "  <thead>\n",
       "    <tr style=\"text-align: right;\">\n",
       "      <th></th>\n",
       "      <th>SeniorCitizen</th>\n",
       "      <th>tenure</th>\n",
       "      <th>MonthlyCharges</th>\n",
       "    </tr>\n",
       "  </thead>\n",
       "  <tbody>\n",
       "    <tr>\n",
       "      <th>count</th>\n",
       "      <td>7042.000000</td>\n",
       "      <td>7042.000000</td>\n",
       "      <td>7042.000000</td>\n",
       "    </tr>\n",
       "    <tr>\n",
       "      <th>mean</th>\n",
       "      <td>0.162170</td>\n",
       "      <td>32.366373</td>\n",
       "      <td>64.755886</td>\n",
       "    </tr>\n",
       "    <tr>\n",
       "      <th>std</th>\n",
       "      <td>0.368633</td>\n",
       "      <td>24.557955</td>\n",
       "      <td>30.088238</td>\n",
       "    </tr>\n",
       "    <tr>\n",
       "      <th>min</th>\n",
       "      <td>0.000000</td>\n",
       "      <td>0.000000</td>\n",
       "      <td>18.250000</td>\n",
       "    </tr>\n",
       "    <tr>\n",
       "      <th>25%</th>\n",
       "      <td>0.000000</td>\n",
       "      <td>9.000000</td>\n",
       "      <td>35.500000</td>\n",
       "    </tr>\n",
       "    <tr>\n",
       "      <th>50%</th>\n",
       "      <td>0.000000</td>\n",
       "      <td>29.000000</td>\n",
       "      <td>70.350000</td>\n",
       "    </tr>\n",
       "    <tr>\n",
       "      <th>75%</th>\n",
       "      <td>0.000000</td>\n",
       "      <td>55.000000</td>\n",
       "      <td>89.850000</td>\n",
       "    </tr>\n",
       "    <tr>\n",
       "      <th>max</th>\n",
       "      <td>1.000000</td>\n",
       "      <td>72.000000</td>\n",
       "      <td>118.750000</td>\n",
       "    </tr>\n",
       "  </tbody>\n",
       "</table>\n",
       "</div>"
      ],
      "text/plain": [
       "       SeniorCitizen       tenure  MonthlyCharges\n",
       "count    7042.000000  7042.000000     7042.000000\n",
       "mean        0.162170    32.366373       64.755886\n",
       "std         0.368633    24.557955       30.088238\n",
       "min         0.000000     0.000000       18.250000\n",
       "25%         0.000000     9.000000       35.500000\n",
       "50%         0.000000    29.000000       70.350000\n",
       "75%         0.000000    55.000000       89.850000\n",
       "max         1.000000    72.000000      118.750000"
      ]
     },
     "execution_count": 18,
     "metadata": {},
     "output_type": "execute_result"
    }
   ],
   "source": [
    "tele_df[numeric_cols].describe()"
   ]
  },
  {
   "cell_type": "markdown",
   "id": "f88b9153-518f-4a29-9865-2d0b5014ccec",
   "metadata": {},
   "source": [
    "MinMaxScaler for making values between 0 and 1 for sigmoid curve"
   ]
  },
  {
   "cell_type": "code",
   "execution_count": 19,
   "id": "27898f26-903f-421d-b49f-d75330171cc4",
   "metadata": {},
   "outputs": [],
   "source": [
    "from sklearn.preprocessing import MinMaxScaler"
   ]
  },
  {
   "cell_type": "code",
   "execution_count": 20,
   "id": "22ae720c-98d9-4b5c-90a4-ce64f172a537",
   "metadata": {},
   "outputs": [],
   "source": [
    "scaler = MinMaxScaler()"
   ]
  },
  {
   "cell_type": "code",
   "execution_count": 21,
   "id": "f9245736-bd5b-44d8-b128-b7b77c85c2a5",
   "metadata": {},
   "outputs": [
    {
     "data": {
      "text/plain": [
       "MinMaxScaler()"
      ]
     },
     "execution_count": 21,
     "metadata": {},
     "output_type": "execute_result"
    }
   ],
   "source": [
    "scaler.fit(tele_df[numeric_cols])"
   ]
  },
  {
   "cell_type": "code",
   "execution_count": 22,
   "id": "de3771f7-2182-43fd-9fcb-67ab8eb14972",
   "metadata": {},
   "outputs": [
    {
     "name": "stdout",
     "output_type": "stream",
     "text": [
      "Minimum:\n",
      "[0.0, 0.0, 18.25]\n",
      "Maximum:\n",
      "[1.0, 72.0, 118.75]\n"
     ]
    }
   ],
   "source": [
    "print('Minimum:')\n",
    "print(list(scaler.data_min_))\n",
    "\n",
    "print('Maximum:')\n",
    "print(list(scaler.data_max_))"
   ]
  },
  {
   "cell_type": "code",
   "execution_count": 23,
   "id": "2d4e39d8-77c4-48f8-b63a-38145e7d0c80",
   "metadata": {},
   "outputs": [],
   "source": [
    "train_inputs[numeric_cols] = scaler.transform(train_inputs[numeric_cols])\n",
    "val_inputs[numeric_cols] = scaler.transform(val_inputs[numeric_cols])\n",
    "test_inputs[numeric_cols] = scaler.transform(test_inputs[numeric_cols])"
   ]
  },
  {
   "cell_type": "code",
   "execution_count": 24,
   "id": "4c2cfbbc-18ed-4c9d-80f6-3f742687b1c8",
   "metadata": {},
   "outputs": [
    {
     "data": {
      "text/html": [
       "<div>\n",
       "<style scoped>\n",
       "    .dataframe tbody tr th:only-of-type {\n",
       "        vertical-align: middle;\n",
       "    }\n",
       "\n",
       "    .dataframe tbody tr th {\n",
       "        vertical-align: top;\n",
       "    }\n",
       "\n",
       "    .dataframe thead th {\n",
       "        text-align: right;\n",
       "    }\n",
       "</style>\n",
       "<table border=\"1\" class=\"dataframe\">\n",
       "  <thead>\n",
       "    <tr style=\"text-align: right;\">\n",
       "      <th></th>\n",
       "      <th>SeniorCitizen</th>\n",
       "      <th>tenure</th>\n",
       "      <th>MonthlyCharges</th>\n",
       "    </tr>\n",
       "  </thead>\n",
       "  <tbody>\n",
       "    <tr>\n",
       "      <th>count</th>\n",
       "      <td>5281.000000</td>\n",
       "      <td>5281.000000</td>\n",
       "      <td>5281.000000</td>\n",
       "    </tr>\n",
       "    <tr>\n",
       "      <th>mean</th>\n",
       "      <td>0.164931</td>\n",
       "      <td>0.448489</td>\n",
       "      <td>0.464206</td>\n",
       "    </tr>\n",
       "    <tr>\n",
       "      <th>std</th>\n",
       "      <td>0.371153</td>\n",
       "      <td>0.340674</td>\n",
       "      <td>0.297915</td>\n",
       "    </tr>\n",
       "    <tr>\n",
       "      <th>min</th>\n",
       "      <td>0.000000</td>\n",
       "      <td>0.000000</td>\n",
       "      <td>0.000000</td>\n",
       "    </tr>\n",
       "    <tr>\n",
       "      <th>25%</th>\n",
       "      <td>0.000000</td>\n",
       "      <td>0.125000</td>\n",
       "      <td>0.177114</td>\n",
       "    </tr>\n",
       "    <tr>\n",
       "      <th>50%</th>\n",
       "      <td>0.000000</td>\n",
       "      <td>0.402778</td>\n",
       "      <td>0.518905</td>\n",
       "    </tr>\n",
       "    <tr>\n",
       "      <th>75%</th>\n",
       "      <td>0.000000</td>\n",
       "      <td>0.763889</td>\n",
       "      <td>0.711940</td>\n",
       "    </tr>\n",
       "    <tr>\n",
       "      <th>max</th>\n",
       "      <td>1.000000</td>\n",
       "      <td>1.000000</td>\n",
       "      <td>1.000000</td>\n",
       "    </tr>\n",
       "  </tbody>\n",
       "</table>\n",
       "</div>"
      ],
      "text/plain": [
       "       SeniorCitizen       tenure  MonthlyCharges\n",
       "count    5281.000000  5281.000000     5281.000000\n",
       "mean        0.164931     0.448489        0.464206\n",
       "std         0.371153     0.340674        0.297915\n",
       "min         0.000000     0.000000        0.000000\n",
       "25%         0.000000     0.125000        0.177114\n",
       "50%         0.000000     0.402778        0.518905\n",
       "75%         0.000000     0.763889        0.711940\n",
       "max         1.000000     1.000000        1.000000"
      ]
     },
     "execution_count": 24,
     "metadata": {},
     "output_type": "execute_result"
    }
   ],
   "source": [
    "train_inputs[numeric_cols].describe()"
   ]
  },
  {
   "cell_type": "code",
   "execution_count": null,
   "id": "b2072eac-bf36-460f-88f3-854b7535f690",
   "metadata": {},
   "outputs": [],
   "source": []
  },
  {
   "cell_type": "code",
   "execution_count": null,
   "id": "21db322c-1bc5-43bc-b88d-26af969ffeea",
   "metadata": {},
   "outputs": [],
   "source": []
  },
  {
   "cell_type": "markdown",
   "id": "e684f3a1-b35c-4ff5-8689-08249692e9fd",
   "metadata": {},
   "source": [
    "Encoding Categorical Sets"
   ]
  },
  {
   "cell_type": "code",
   "execution_count": 25,
   "id": "08ae6a96-c881-4ac6-b1ac-78d63865df50",
   "metadata": {},
   "outputs": [],
   "source": [
    "from sklearn.preprocessing import OneHotEncoder"
   ]
  },
  {
   "cell_type": "code",
   "execution_count": 26,
   "id": "7345a4ff-5470-4500-960b-e6f680cb9fa0",
   "metadata": {},
   "outputs": [],
   "source": [
    "encoder = OneHotEncoder(sparse=False, handle_unknown='ignore')"
   ]
  },
  {
   "cell_type": "code",
   "execution_count": 27,
   "id": "6b9c7c23-cfdb-4823-94c5-321158c4a765",
   "metadata": {},
   "outputs": [
    {
     "data": {
      "text/plain": [
       "OneHotEncoder(handle_unknown='ignore', sparse=False)"
      ]
     },
     "execution_count": 27,
     "metadata": {},
     "output_type": "execute_result"
    }
   ],
   "source": [
    "encoder.fit(tele_df[categorical_cols])"
   ]
  },
  {
   "cell_type": "code",
   "execution_count": 28,
   "id": "1764ba63-f965-4a07-bf99-9e3439034e9c",
   "metadata": {},
   "outputs": [
    {
     "data": {
      "text/plain": [
       "[array(['Female', 'Male'], dtype=object),\n",
       " array(['DSL', 'Fiber optic', 'No'], dtype=object),\n",
       " array(['No', 'No internet service', 'Yes'], dtype=object),\n",
       " array(['No', 'Yes'], dtype=object),\n",
       " array(['Bank transfer (automatic)', 'Credit card (automatic)',\n",
       "        'Electronic check', 'Mailed check'], dtype=object)]"
      ]
     },
     "execution_count": 28,
     "metadata": {},
     "output_type": "execute_result"
    }
   ],
   "source": [
    "encoder.categories_"
   ]
  },
  {
   "cell_type": "code",
   "execution_count": 29,
   "id": "7ed351ab-ecaa-4d5d-953f-3f6d7ef36c80",
   "metadata": {},
   "outputs": [
    {
     "name": "stderr",
     "output_type": "stream",
     "text": [
      "/Users/krishnakumarjena/opt/anaconda3/lib/python3.9/site-packages/sklearn/utils/deprecation.py:87: FutureWarning: Function get_feature_names is deprecated; get_feature_names is deprecated in 1.0 and will be removed in 1.2. Please use get_feature_names_out instead.\n",
      "  warnings.warn(msg, category=FutureWarning)\n"
     ]
    },
    {
     "data": {
      "text/plain": [
       "['gender_Female',\n",
       " 'gender_Male',\n",
       " 'InternetService_DSL',\n",
       " 'InternetService_Fiber optic',\n",
       " 'InternetService_No',\n",
       " 'TechSupport_No',\n",
       " 'TechSupport_No internet service',\n",
       " 'TechSupport_Yes',\n",
       " 'PaperlessBilling_No',\n",
       " 'PaperlessBilling_Yes',\n",
       " 'PaymentMethod_Bank transfer (automatic)',\n",
       " 'PaymentMethod_Credit card (automatic)',\n",
       " 'PaymentMethod_Electronic check',\n",
       " 'PaymentMethod_Mailed check']"
      ]
     },
     "execution_count": 29,
     "metadata": {},
     "output_type": "execute_result"
    }
   ],
   "source": [
    "encoded_cols = list(encoder.get_feature_names(categorical_cols))\n",
    "encoded_cols"
   ]
  },
  {
   "cell_type": "code",
   "execution_count": 30,
   "id": "11870c97-6dcf-4e28-9bc5-e6102267d008",
   "metadata": {},
   "outputs": [
    {
     "name": "stdout",
     "output_type": "stream",
     "text": [
      "CPU times: user 49.3 ms, sys: 1.65 ms, total: 51 ms\n",
      "Wall time: 49.9 ms\n"
     ]
    }
   ],
   "source": [
    "%%time\n",
    "train_inputs[encoded_cols] = encoder.transform(train_inputs[categorical_cols].fillna('Unknown'))\n",
    "val_inputs[encoded_cols] = encoder.transform(val_inputs[categorical_cols].fillna('Unknown'))\n",
    "test_inputs[encoded_cols] = encoder.transform(test_inputs[categorical_cols].fillna('Unknown'))"
   ]
  },
  {
   "cell_type": "code",
   "execution_count": 31,
   "id": "ab2d4ddc-5dd6-4a45-8bc4-a655ec75fd18",
   "metadata": {},
   "outputs": [],
   "source": [
    "pd.set_option('display.max_columns', None)"
   ]
  },
  {
   "cell_type": "code",
   "execution_count": 32,
   "id": "ea73a8a8-3a60-48b0-a914-c1ec35b015b2",
   "metadata": {},
   "outputs": [
    {
     "data": {
      "text/html": [
       "<div>\n",
       "<style scoped>\n",
       "    .dataframe tbody tr th:only-of-type {\n",
       "        vertical-align: middle;\n",
       "    }\n",
       "\n",
       "    .dataframe tbody tr th {\n",
       "        vertical-align: top;\n",
       "    }\n",
       "\n",
       "    .dataframe thead th {\n",
       "        text-align: right;\n",
       "    }\n",
       "</style>\n",
       "<table border=\"1\" class=\"dataframe\">\n",
       "  <thead>\n",
       "    <tr style=\"text-align: right;\">\n",
       "      <th></th>\n",
       "      <th>gender</th>\n",
       "      <th>SeniorCitizen</th>\n",
       "      <th>InternetService</th>\n",
       "      <th>TechSupport</th>\n",
       "      <th>tenure</th>\n",
       "      <th>PaperlessBilling</th>\n",
       "      <th>PaymentMethod</th>\n",
       "      <th>MonthlyCharges</th>\n",
       "      <th>gender_Female</th>\n",
       "      <th>gender_Male</th>\n",
       "      <th>InternetService_DSL</th>\n",
       "      <th>InternetService_Fiber optic</th>\n",
       "      <th>InternetService_No</th>\n",
       "      <th>TechSupport_No</th>\n",
       "      <th>TechSupport_No internet service</th>\n",
       "      <th>TechSupport_Yes</th>\n",
       "      <th>PaperlessBilling_No</th>\n",
       "      <th>PaperlessBilling_Yes</th>\n",
       "      <th>PaymentMethod_Bank transfer (automatic)</th>\n",
       "      <th>PaymentMethod_Credit card (automatic)</th>\n",
       "      <th>PaymentMethod_Electronic check</th>\n",
       "      <th>PaymentMethod_Mailed check</th>\n",
       "    </tr>\n",
       "  </thead>\n",
       "  <tbody>\n",
       "    <tr>\n",
       "      <th>6417</th>\n",
       "      <td>Female</td>\n",
       "      <td>1.0</td>\n",
       "      <td>Fiber optic</td>\n",
       "      <td>No</td>\n",
       "      <td>0.708333</td>\n",
       "      <td>Yes</td>\n",
       "      <td>Electronic check</td>\n",
       "      <td>0.589552</td>\n",
       "      <td>1.0</td>\n",
       "      <td>0.0</td>\n",
       "      <td>0.0</td>\n",
       "      <td>1.0</td>\n",
       "      <td>0.0</td>\n",
       "      <td>1.0</td>\n",
       "      <td>0.0</td>\n",
       "      <td>0.0</td>\n",
       "      <td>0.0</td>\n",
       "      <td>1.0</td>\n",
       "      <td>0.0</td>\n",
       "      <td>0.0</td>\n",
       "      <td>1.0</td>\n",
       "      <td>0.0</td>\n",
       "    </tr>\n",
       "    <tr>\n",
       "      <th>1948</th>\n",
       "      <td>Female</td>\n",
       "      <td>0.0</td>\n",
       "      <td>Fiber optic</td>\n",
       "      <td>No</td>\n",
       "      <td>0.027778</td>\n",
       "      <td>No</td>\n",
       "      <td>Electronic check</td>\n",
       "      <td>0.621891</td>\n",
       "      <td>1.0</td>\n",
       "      <td>0.0</td>\n",
       "      <td>0.0</td>\n",
       "      <td>1.0</td>\n",
       "      <td>0.0</td>\n",
       "      <td>1.0</td>\n",
       "      <td>0.0</td>\n",
       "      <td>0.0</td>\n",
       "      <td>1.0</td>\n",
       "      <td>0.0</td>\n",
       "      <td>0.0</td>\n",
       "      <td>0.0</td>\n",
       "      <td>1.0</td>\n",
       "      <td>0.0</td>\n",
       "    </tr>\n",
       "    <tr>\n",
       "      <th>4497</th>\n",
       "      <td>Male</td>\n",
       "      <td>1.0</td>\n",
       "      <td>Fiber optic</td>\n",
       "      <td>No</td>\n",
       "      <td>0.833333</td>\n",
       "      <td>Yes</td>\n",
       "      <td>Electronic check</td>\n",
       "      <td>0.793035</td>\n",
       "      <td>0.0</td>\n",
       "      <td>1.0</td>\n",
       "      <td>0.0</td>\n",
       "      <td>1.0</td>\n",
       "      <td>0.0</td>\n",
       "      <td>1.0</td>\n",
       "      <td>0.0</td>\n",
       "      <td>0.0</td>\n",
       "      <td>0.0</td>\n",
       "      <td>1.0</td>\n",
       "      <td>0.0</td>\n",
       "      <td>0.0</td>\n",
       "      <td>1.0</td>\n",
       "      <td>0.0</td>\n",
       "    </tr>\n",
       "    <tr>\n",
       "      <th>66</th>\n",
       "      <td>Male</td>\n",
       "      <td>0.0</td>\n",
       "      <td>Fiber optic</td>\n",
       "      <td>No</td>\n",
       "      <td>0.652778</td>\n",
       "      <td>Yes</td>\n",
       "      <td>Electronic check</td>\n",
       "      <td>0.603483</td>\n",
       "      <td>0.0</td>\n",
       "      <td>1.0</td>\n",
       "      <td>0.0</td>\n",
       "      <td>1.0</td>\n",
       "      <td>0.0</td>\n",
       "      <td>1.0</td>\n",
       "      <td>0.0</td>\n",
       "      <td>0.0</td>\n",
       "      <td>0.0</td>\n",
       "      <td>1.0</td>\n",
       "      <td>0.0</td>\n",
       "      <td>0.0</td>\n",
       "      <td>1.0</td>\n",
       "      <td>0.0</td>\n",
       "    </tr>\n",
       "    <tr>\n",
       "      <th>1705</th>\n",
       "      <td>Female</td>\n",
       "      <td>1.0</td>\n",
       "      <td>Fiber optic</td>\n",
       "      <td>Yes</td>\n",
       "      <td>0.763889</td>\n",
       "      <td>No</td>\n",
       "      <td>Electronic check</td>\n",
       "      <td>0.718408</td>\n",
       "      <td>1.0</td>\n",
       "      <td>0.0</td>\n",
       "      <td>0.0</td>\n",
       "      <td>1.0</td>\n",
       "      <td>0.0</td>\n",
       "      <td>0.0</td>\n",
       "      <td>0.0</td>\n",
       "      <td>1.0</td>\n",
       "      <td>1.0</td>\n",
       "      <td>0.0</td>\n",
       "      <td>0.0</td>\n",
       "      <td>0.0</td>\n",
       "      <td>1.0</td>\n",
       "      <td>0.0</td>\n",
       "    </tr>\n",
       "    <tr>\n",
       "      <th>...</th>\n",
       "      <td>...</td>\n",
       "      <td>...</td>\n",
       "      <td>...</td>\n",
       "      <td>...</td>\n",
       "      <td>...</td>\n",
       "      <td>...</td>\n",
       "      <td>...</td>\n",
       "      <td>...</td>\n",
       "      <td>...</td>\n",
       "      <td>...</td>\n",
       "      <td>...</td>\n",
       "      <td>...</td>\n",
       "      <td>...</td>\n",
       "      <td>...</td>\n",
       "      <td>...</td>\n",
       "      <td>...</td>\n",
       "      <td>...</td>\n",
       "      <td>...</td>\n",
       "      <td>...</td>\n",
       "      <td>...</td>\n",
       "      <td>...</td>\n",
       "      <td>...</td>\n",
       "    </tr>\n",
       "    <tr>\n",
       "      <th>1901</th>\n",
       "      <td>Female</td>\n",
       "      <td>0.0</td>\n",
       "      <td>No</td>\n",
       "      <td>No internet service</td>\n",
       "      <td>0.166667</td>\n",
       "      <td>No</td>\n",
       "      <td>Electronic check</td>\n",
       "      <td>0.018905</td>\n",
       "      <td>1.0</td>\n",
       "      <td>0.0</td>\n",
       "      <td>0.0</td>\n",
       "      <td>0.0</td>\n",
       "      <td>1.0</td>\n",
       "      <td>0.0</td>\n",
       "      <td>1.0</td>\n",
       "      <td>0.0</td>\n",
       "      <td>1.0</td>\n",
       "      <td>0.0</td>\n",
       "      <td>0.0</td>\n",
       "      <td>0.0</td>\n",
       "      <td>1.0</td>\n",
       "      <td>0.0</td>\n",
       "    </tr>\n",
       "    <tr>\n",
       "      <th>5937</th>\n",
       "      <td>Female</td>\n",
       "      <td>1.0</td>\n",
       "      <td>Fiber optic</td>\n",
       "      <td>No</td>\n",
       "      <td>0.111111</td>\n",
       "      <td>Yes</td>\n",
       "      <td>Electronic check</td>\n",
       "      <td>0.654229</td>\n",
       "      <td>1.0</td>\n",
       "      <td>0.0</td>\n",
       "      <td>0.0</td>\n",
       "      <td>1.0</td>\n",
       "      <td>0.0</td>\n",
       "      <td>1.0</td>\n",
       "      <td>0.0</td>\n",
       "      <td>0.0</td>\n",
       "      <td>0.0</td>\n",
       "      <td>1.0</td>\n",
       "      <td>0.0</td>\n",
       "      <td>0.0</td>\n",
       "      <td>1.0</td>\n",
       "      <td>0.0</td>\n",
       "    </tr>\n",
       "    <tr>\n",
       "      <th>6372</th>\n",
       "      <td>Male</td>\n",
       "      <td>0.0</td>\n",
       "      <td>No</td>\n",
       "      <td>No internet service</td>\n",
       "      <td>0.055556</td>\n",
       "      <td>No</td>\n",
       "      <td>Credit card (automatic)</td>\n",
       "      <td>0.012438</td>\n",
       "      <td>0.0</td>\n",
       "      <td>1.0</td>\n",
       "      <td>0.0</td>\n",
       "      <td>0.0</td>\n",
       "      <td>1.0</td>\n",
       "      <td>0.0</td>\n",
       "      <td>1.0</td>\n",
       "      <td>0.0</td>\n",
       "      <td>1.0</td>\n",
       "      <td>0.0</td>\n",
       "      <td>0.0</td>\n",
       "      <td>1.0</td>\n",
       "      <td>0.0</td>\n",
       "      <td>0.0</td>\n",
       "    </tr>\n",
       "    <tr>\n",
       "      <th>1767</th>\n",
       "      <td>Female</td>\n",
       "      <td>0.0</td>\n",
       "      <td>Fiber optic</td>\n",
       "      <td>Yes</td>\n",
       "      <td>0.986111</td>\n",
       "      <td>Yes</td>\n",
       "      <td>Credit card (automatic)</td>\n",
       "      <td>0.964179</td>\n",
       "      <td>1.0</td>\n",
       "      <td>0.0</td>\n",
       "      <td>0.0</td>\n",
       "      <td>1.0</td>\n",
       "      <td>0.0</td>\n",
       "      <td>0.0</td>\n",
       "      <td>0.0</td>\n",
       "      <td>1.0</td>\n",
       "      <td>0.0</td>\n",
       "      <td>1.0</td>\n",
       "      <td>0.0</td>\n",
       "      <td>1.0</td>\n",
       "      <td>0.0</td>\n",
       "      <td>0.0</td>\n",
       "    </tr>\n",
       "    <tr>\n",
       "      <th>2184</th>\n",
       "      <td>Female</td>\n",
       "      <td>1.0</td>\n",
       "      <td>Fiber optic</td>\n",
       "      <td>No</td>\n",
       "      <td>0.027778</td>\n",
       "      <td>Yes</td>\n",
       "      <td>Electronic check</td>\n",
       "      <td>0.699502</td>\n",
       "      <td>1.0</td>\n",
       "      <td>0.0</td>\n",
       "      <td>0.0</td>\n",
       "      <td>1.0</td>\n",
       "      <td>0.0</td>\n",
       "      <td>1.0</td>\n",
       "      <td>0.0</td>\n",
       "      <td>0.0</td>\n",
       "      <td>0.0</td>\n",
       "      <td>1.0</td>\n",
       "      <td>0.0</td>\n",
       "      <td>0.0</td>\n",
       "      <td>1.0</td>\n",
       "      <td>0.0</td>\n",
       "    </tr>\n",
       "  </tbody>\n",
       "</table>\n",
       "<p>1409 rows × 22 columns</p>\n",
       "</div>"
      ],
      "text/plain": [
       "      gender  SeniorCitizen InternetService          TechSupport    tenure  \\\n",
       "6417  Female            1.0     Fiber optic                   No  0.708333   \n",
       "1948  Female            0.0     Fiber optic                   No  0.027778   \n",
       "4497    Male            1.0     Fiber optic                   No  0.833333   \n",
       "66      Male            0.0     Fiber optic                   No  0.652778   \n",
       "1705  Female            1.0     Fiber optic                  Yes  0.763889   \n",
       "...      ...            ...             ...                  ...       ...   \n",
       "1901  Female            0.0              No  No internet service  0.166667   \n",
       "5937  Female            1.0     Fiber optic                   No  0.111111   \n",
       "6372    Male            0.0              No  No internet service  0.055556   \n",
       "1767  Female            0.0     Fiber optic                  Yes  0.986111   \n",
       "2184  Female            1.0     Fiber optic                   No  0.027778   \n",
       "\n",
       "     PaperlessBilling            PaymentMethod  MonthlyCharges  gender_Female  \\\n",
       "6417              Yes         Electronic check        0.589552            1.0   \n",
       "1948               No         Electronic check        0.621891            1.0   \n",
       "4497              Yes         Electronic check        0.793035            0.0   \n",
       "66                Yes         Electronic check        0.603483            0.0   \n",
       "1705               No         Electronic check        0.718408            1.0   \n",
       "...               ...                      ...             ...            ...   \n",
       "1901               No         Electronic check        0.018905            1.0   \n",
       "5937              Yes         Electronic check        0.654229            1.0   \n",
       "6372               No  Credit card (automatic)        0.012438            0.0   \n",
       "1767              Yes  Credit card (automatic)        0.964179            1.0   \n",
       "2184              Yes         Electronic check        0.699502            1.0   \n",
       "\n",
       "      gender_Male  InternetService_DSL  InternetService_Fiber optic  \\\n",
       "6417          0.0                  0.0                          1.0   \n",
       "1948          0.0                  0.0                          1.0   \n",
       "4497          1.0                  0.0                          1.0   \n",
       "66            1.0                  0.0                          1.0   \n",
       "1705          0.0                  0.0                          1.0   \n",
       "...           ...                  ...                          ...   \n",
       "1901          0.0                  0.0                          0.0   \n",
       "5937          0.0                  0.0                          1.0   \n",
       "6372          1.0                  0.0                          0.0   \n",
       "1767          0.0                  0.0                          1.0   \n",
       "2184          0.0                  0.0                          1.0   \n",
       "\n",
       "      InternetService_No  TechSupport_No  TechSupport_No internet service  \\\n",
       "6417                 0.0             1.0                              0.0   \n",
       "1948                 0.0             1.0                              0.0   \n",
       "4497                 0.0             1.0                              0.0   \n",
       "66                   0.0             1.0                              0.0   \n",
       "1705                 0.0             0.0                              0.0   \n",
       "...                  ...             ...                              ...   \n",
       "1901                 1.0             0.0                              1.0   \n",
       "5937                 0.0             1.0                              0.0   \n",
       "6372                 1.0             0.0                              1.0   \n",
       "1767                 0.0             0.0                              0.0   \n",
       "2184                 0.0             1.0                              0.0   \n",
       "\n",
       "      TechSupport_Yes  PaperlessBilling_No  PaperlessBilling_Yes  \\\n",
       "6417              0.0                  0.0                   1.0   \n",
       "1948              0.0                  1.0                   0.0   \n",
       "4497              0.0                  0.0                   1.0   \n",
       "66                0.0                  0.0                   1.0   \n",
       "1705              1.0                  1.0                   0.0   \n",
       "...               ...                  ...                   ...   \n",
       "1901              0.0                  1.0                   0.0   \n",
       "5937              0.0                  0.0                   1.0   \n",
       "6372              0.0                  1.0                   0.0   \n",
       "1767              1.0                  0.0                   1.0   \n",
       "2184              0.0                  0.0                   1.0   \n",
       "\n",
       "      PaymentMethod_Bank transfer (automatic)  \\\n",
       "6417                                      0.0   \n",
       "1948                                      0.0   \n",
       "4497                                      0.0   \n",
       "66                                        0.0   \n",
       "1705                                      0.0   \n",
       "...                                       ...   \n",
       "1901                                      0.0   \n",
       "5937                                      0.0   \n",
       "6372                                      0.0   \n",
       "1767                                      0.0   \n",
       "2184                                      0.0   \n",
       "\n",
       "      PaymentMethod_Credit card (automatic)  PaymentMethod_Electronic check  \\\n",
       "6417                                    0.0                             1.0   \n",
       "1948                                    0.0                             1.0   \n",
       "4497                                    0.0                             1.0   \n",
       "66                                      0.0                             1.0   \n",
       "1705                                    0.0                             1.0   \n",
       "...                                     ...                             ...   \n",
       "1901                                    0.0                             1.0   \n",
       "5937                                    0.0                             1.0   \n",
       "6372                                    1.0                             0.0   \n",
       "1767                                    1.0                             0.0   \n",
       "2184                                    0.0                             1.0   \n",
       "\n",
       "      PaymentMethod_Mailed check  \n",
       "6417                         0.0  \n",
       "1948                         0.0  \n",
       "4497                         0.0  \n",
       "66                           0.0  \n",
       "1705                         0.0  \n",
       "...                          ...  \n",
       "1901                         0.0  \n",
       "5937                         0.0  \n",
       "6372                         0.0  \n",
       "1767                         0.0  \n",
       "2184                         0.0  \n",
       "\n",
       "[1409 rows x 22 columns]"
      ]
     },
     "execution_count": 32,
     "metadata": {},
     "output_type": "execute_result"
    }
   ],
   "source": [
    "test_inputs"
   ]
  },
  {
   "cell_type": "code",
   "execution_count": 33,
   "id": "363021bb-a057-4e40-ba81-94c7acc7ece7",
   "metadata": {},
   "outputs": [
    {
     "data": {
      "text/html": [
       "<div>\n",
       "<style scoped>\n",
       "    .dataframe tbody tr th:only-of-type {\n",
       "        vertical-align: middle;\n",
       "    }\n",
       "\n",
       "    .dataframe tbody tr th {\n",
       "        vertical-align: top;\n",
       "    }\n",
       "\n",
       "    .dataframe thead th {\n",
       "        text-align: right;\n",
       "    }\n",
       "</style>\n",
       "<table border=\"1\" class=\"dataframe\">\n",
       "  <thead>\n",
       "    <tr style=\"text-align: right;\">\n",
       "      <th></th>\n",
       "      <th>gender</th>\n",
       "      <th>SeniorCitizen</th>\n",
       "      <th>InternetService</th>\n",
       "      <th>TechSupport</th>\n",
       "      <th>tenure</th>\n",
       "      <th>PaperlessBilling</th>\n",
       "      <th>PaymentMethod</th>\n",
       "      <th>MonthlyCharges</th>\n",
       "      <th>gender_Female</th>\n",
       "      <th>gender_Male</th>\n",
       "      <th>InternetService_DSL</th>\n",
       "      <th>InternetService_Fiber optic</th>\n",
       "      <th>InternetService_No</th>\n",
       "      <th>TechSupport_No</th>\n",
       "      <th>TechSupport_No internet service</th>\n",
       "      <th>TechSupport_Yes</th>\n",
       "      <th>PaperlessBilling_No</th>\n",
       "      <th>PaperlessBilling_Yes</th>\n",
       "      <th>PaymentMethod_Bank transfer (automatic)</th>\n",
       "      <th>PaymentMethod_Credit card (automatic)</th>\n",
       "      <th>PaymentMethod_Electronic check</th>\n",
       "      <th>PaymentMethod_Mailed check</th>\n",
       "    </tr>\n",
       "  </thead>\n",
       "  <tbody>\n",
       "    <tr>\n",
       "      <th>6417</th>\n",
       "      <td>Female</td>\n",
       "      <td>1.0</td>\n",
       "      <td>Fiber optic</td>\n",
       "      <td>No</td>\n",
       "      <td>0.708333</td>\n",
       "      <td>Yes</td>\n",
       "      <td>Electronic check</td>\n",
       "      <td>0.589552</td>\n",
       "      <td>1.0</td>\n",
       "      <td>0.0</td>\n",
       "      <td>0.0</td>\n",
       "      <td>1.0</td>\n",
       "      <td>0.0</td>\n",
       "      <td>1.0</td>\n",
       "      <td>0.0</td>\n",
       "      <td>0.0</td>\n",
       "      <td>0.0</td>\n",
       "      <td>1.0</td>\n",
       "      <td>0.0</td>\n",
       "      <td>0.0</td>\n",
       "      <td>1.0</td>\n",
       "      <td>0.0</td>\n",
       "    </tr>\n",
       "    <tr>\n",
       "      <th>1948</th>\n",
       "      <td>Female</td>\n",
       "      <td>0.0</td>\n",
       "      <td>Fiber optic</td>\n",
       "      <td>No</td>\n",
       "      <td>0.027778</td>\n",
       "      <td>No</td>\n",
       "      <td>Electronic check</td>\n",
       "      <td>0.621891</td>\n",
       "      <td>1.0</td>\n",
       "      <td>0.0</td>\n",
       "      <td>0.0</td>\n",
       "      <td>1.0</td>\n",
       "      <td>0.0</td>\n",
       "      <td>1.0</td>\n",
       "      <td>0.0</td>\n",
       "      <td>0.0</td>\n",
       "      <td>1.0</td>\n",
       "      <td>0.0</td>\n",
       "      <td>0.0</td>\n",
       "      <td>0.0</td>\n",
       "      <td>1.0</td>\n",
       "      <td>0.0</td>\n",
       "    </tr>\n",
       "    <tr>\n",
       "      <th>4497</th>\n",
       "      <td>Male</td>\n",
       "      <td>1.0</td>\n",
       "      <td>Fiber optic</td>\n",
       "      <td>No</td>\n",
       "      <td>0.833333</td>\n",
       "      <td>Yes</td>\n",
       "      <td>Electronic check</td>\n",
       "      <td>0.793035</td>\n",
       "      <td>0.0</td>\n",
       "      <td>1.0</td>\n",
       "      <td>0.0</td>\n",
       "      <td>1.0</td>\n",
       "      <td>0.0</td>\n",
       "      <td>1.0</td>\n",
       "      <td>0.0</td>\n",
       "      <td>0.0</td>\n",
       "      <td>0.0</td>\n",
       "      <td>1.0</td>\n",
       "      <td>0.0</td>\n",
       "      <td>0.0</td>\n",
       "      <td>1.0</td>\n",
       "      <td>0.0</td>\n",
       "    </tr>\n",
       "    <tr>\n",
       "      <th>66</th>\n",
       "      <td>Male</td>\n",
       "      <td>0.0</td>\n",
       "      <td>Fiber optic</td>\n",
       "      <td>No</td>\n",
       "      <td>0.652778</td>\n",
       "      <td>Yes</td>\n",
       "      <td>Electronic check</td>\n",
       "      <td>0.603483</td>\n",
       "      <td>0.0</td>\n",
       "      <td>1.0</td>\n",
       "      <td>0.0</td>\n",
       "      <td>1.0</td>\n",
       "      <td>0.0</td>\n",
       "      <td>1.0</td>\n",
       "      <td>0.0</td>\n",
       "      <td>0.0</td>\n",
       "      <td>0.0</td>\n",
       "      <td>1.0</td>\n",
       "      <td>0.0</td>\n",
       "      <td>0.0</td>\n",
       "      <td>1.0</td>\n",
       "      <td>0.0</td>\n",
       "    </tr>\n",
       "    <tr>\n",
       "      <th>1705</th>\n",
       "      <td>Female</td>\n",
       "      <td>1.0</td>\n",
       "      <td>Fiber optic</td>\n",
       "      <td>Yes</td>\n",
       "      <td>0.763889</td>\n",
       "      <td>No</td>\n",
       "      <td>Electronic check</td>\n",
       "      <td>0.718408</td>\n",
       "      <td>1.0</td>\n",
       "      <td>0.0</td>\n",
       "      <td>0.0</td>\n",
       "      <td>1.0</td>\n",
       "      <td>0.0</td>\n",
       "      <td>0.0</td>\n",
       "      <td>0.0</td>\n",
       "      <td>1.0</td>\n",
       "      <td>1.0</td>\n",
       "      <td>0.0</td>\n",
       "      <td>0.0</td>\n",
       "      <td>0.0</td>\n",
       "      <td>1.0</td>\n",
       "      <td>0.0</td>\n",
       "    </tr>\n",
       "    <tr>\n",
       "      <th>...</th>\n",
       "      <td>...</td>\n",
       "      <td>...</td>\n",
       "      <td>...</td>\n",
       "      <td>...</td>\n",
       "      <td>...</td>\n",
       "      <td>...</td>\n",
       "      <td>...</td>\n",
       "      <td>...</td>\n",
       "      <td>...</td>\n",
       "      <td>...</td>\n",
       "      <td>...</td>\n",
       "      <td>...</td>\n",
       "      <td>...</td>\n",
       "      <td>...</td>\n",
       "      <td>...</td>\n",
       "      <td>...</td>\n",
       "      <td>...</td>\n",
       "      <td>...</td>\n",
       "      <td>...</td>\n",
       "      <td>...</td>\n",
       "      <td>...</td>\n",
       "      <td>...</td>\n",
       "    </tr>\n",
       "    <tr>\n",
       "      <th>2626</th>\n",
       "      <td>Female</td>\n",
       "      <td>0.0</td>\n",
       "      <td>DSL</td>\n",
       "      <td>No</td>\n",
       "      <td>0.833333</td>\n",
       "      <td>No</td>\n",
       "      <td>Electronic check</td>\n",
       "      <td>0.316418</td>\n",
       "      <td>1.0</td>\n",
       "      <td>0.0</td>\n",
       "      <td>1.0</td>\n",
       "      <td>0.0</td>\n",
       "      <td>0.0</td>\n",
       "      <td>1.0</td>\n",
       "      <td>0.0</td>\n",
       "      <td>0.0</td>\n",
       "      <td>1.0</td>\n",
       "      <td>0.0</td>\n",
       "      <td>0.0</td>\n",
       "      <td>0.0</td>\n",
       "      <td>1.0</td>\n",
       "      <td>0.0</td>\n",
       "    </tr>\n",
       "    <tr>\n",
       "      <th>6573</th>\n",
       "      <td>Female</td>\n",
       "      <td>0.0</td>\n",
       "      <td>DSL</td>\n",
       "      <td>Yes</td>\n",
       "      <td>0.625000</td>\n",
       "      <td>No</td>\n",
       "      <td>Bank transfer (automatic)</td>\n",
       "      <td>0.325871</td>\n",
       "      <td>1.0</td>\n",
       "      <td>0.0</td>\n",
       "      <td>1.0</td>\n",
       "      <td>0.0</td>\n",
       "      <td>0.0</td>\n",
       "      <td>0.0</td>\n",
       "      <td>0.0</td>\n",
       "      <td>1.0</td>\n",
       "      <td>1.0</td>\n",
       "      <td>0.0</td>\n",
       "      <td>1.0</td>\n",
       "      <td>0.0</td>\n",
       "      <td>0.0</td>\n",
       "      <td>0.0</td>\n",
       "    </tr>\n",
       "    <tr>\n",
       "      <th>6443</th>\n",
       "      <td>Female</td>\n",
       "      <td>0.0</td>\n",
       "      <td>No</td>\n",
       "      <td>No internet service</td>\n",
       "      <td>0.125000</td>\n",
       "      <td>No</td>\n",
       "      <td>Bank transfer (automatic)</td>\n",
       "      <td>0.012438</td>\n",
       "      <td>1.0</td>\n",
       "      <td>0.0</td>\n",
       "      <td>0.0</td>\n",
       "      <td>0.0</td>\n",
       "      <td>1.0</td>\n",
       "      <td>0.0</td>\n",
       "      <td>1.0</td>\n",
       "      <td>0.0</td>\n",
       "      <td>1.0</td>\n",
       "      <td>0.0</td>\n",
       "      <td>1.0</td>\n",
       "      <td>0.0</td>\n",
       "      <td>0.0</td>\n",
       "      <td>0.0</td>\n",
       "    </tr>\n",
       "    <tr>\n",
       "      <th>2760</th>\n",
       "      <td>Male</td>\n",
       "      <td>0.0</td>\n",
       "      <td>No</td>\n",
       "      <td>No internet service</td>\n",
       "      <td>0.361111</td>\n",
       "      <td>Yes</td>\n",
       "      <td>Credit card (automatic)</td>\n",
       "      <td>0.023881</td>\n",
       "      <td>0.0</td>\n",
       "      <td>1.0</td>\n",
       "      <td>0.0</td>\n",
       "      <td>0.0</td>\n",
       "      <td>1.0</td>\n",
       "      <td>0.0</td>\n",
       "      <td>1.0</td>\n",
       "      <td>0.0</td>\n",
       "      <td>0.0</td>\n",
       "      <td>1.0</td>\n",
       "      <td>0.0</td>\n",
       "      <td>1.0</td>\n",
       "      <td>0.0</td>\n",
       "      <td>0.0</td>\n",
       "    </tr>\n",
       "    <tr>\n",
       "      <th>606</th>\n",
       "      <td>Male</td>\n",
       "      <td>0.0</td>\n",
       "      <td>DSL</td>\n",
       "      <td>Yes</td>\n",
       "      <td>0.527778</td>\n",
       "      <td>No</td>\n",
       "      <td>Credit card (automatic)</td>\n",
       "      <td>0.624378</td>\n",
       "      <td>0.0</td>\n",
       "      <td>1.0</td>\n",
       "      <td>1.0</td>\n",
       "      <td>0.0</td>\n",
       "      <td>0.0</td>\n",
       "      <td>0.0</td>\n",
       "      <td>0.0</td>\n",
       "      <td>1.0</td>\n",
       "      <td>1.0</td>\n",
       "      <td>0.0</td>\n",
       "      <td>0.0</td>\n",
       "      <td>1.0</td>\n",
       "      <td>0.0</td>\n",
       "      <td>0.0</td>\n",
       "    </tr>\n",
       "  </tbody>\n",
       "</table>\n",
       "<p>1761 rows × 22 columns</p>\n",
       "</div>"
      ],
      "text/plain": [
       "      gender  SeniorCitizen InternetService          TechSupport    tenure  \\\n",
       "6417  Female            1.0     Fiber optic                   No  0.708333   \n",
       "1948  Female            0.0     Fiber optic                   No  0.027778   \n",
       "4497    Male            1.0     Fiber optic                   No  0.833333   \n",
       "66      Male            0.0     Fiber optic                   No  0.652778   \n",
       "1705  Female            1.0     Fiber optic                  Yes  0.763889   \n",
       "...      ...            ...             ...                  ...       ...   \n",
       "2626  Female            0.0             DSL                   No  0.833333   \n",
       "6573  Female            0.0             DSL                  Yes  0.625000   \n",
       "6443  Female            0.0              No  No internet service  0.125000   \n",
       "2760    Male            0.0              No  No internet service  0.361111   \n",
       "606     Male            0.0             DSL                  Yes  0.527778   \n",
       "\n",
       "     PaperlessBilling              PaymentMethod  MonthlyCharges  \\\n",
       "6417              Yes           Electronic check        0.589552   \n",
       "1948               No           Electronic check        0.621891   \n",
       "4497              Yes           Electronic check        0.793035   \n",
       "66                Yes           Electronic check        0.603483   \n",
       "1705               No           Electronic check        0.718408   \n",
       "...               ...                        ...             ...   \n",
       "2626               No           Electronic check        0.316418   \n",
       "6573               No  Bank transfer (automatic)        0.325871   \n",
       "6443               No  Bank transfer (automatic)        0.012438   \n",
       "2760              Yes    Credit card (automatic)        0.023881   \n",
       "606                No    Credit card (automatic)        0.624378   \n",
       "\n",
       "      gender_Female  gender_Male  InternetService_DSL  \\\n",
       "6417            1.0          0.0                  0.0   \n",
       "1948            1.0          0.0                  0.0   \n",
       "4497            0.0          1.0                  0.0   \n",
       "66              0.0          1.0                  0.0   \n",
       "1705            1.0          0.0                  0.0   \n",
       "...             ...          ...                  ...   \n",
       "2626            1.0          0.0                  1.0   \n",
       "6573            1.0          0.0                  1.0   \n",
       "6443            1.0          0.0                  0.0   \n",
       "2760            0.0          1.0                  0.0   \n",
       "606             0.0          1.0                  1.0   \n",
       "\n",
       "      InternetService_Fiber optic  InternetService_No  TechSupport_No  \\\n",
       "6417                          1.0                 0.0             1.0   \n",
       "1948                          1.0                 0.0             1.0   \n",
       "4497                          1.0                 0.0             1.0   \n",
       "66                            1.0                 0.0             1.0   \n",
       "1705                          1.0                 0.0             0.0   \n",
       "...                           ...                 ...             ...   \n",
       "2626                          0.0                 0.0             1.0   \n",
       "6573                          0.0                 0.0             0.0   \n",
       "6443                          0.0                 1.0             0.0   \n",
       "2760                          0.0                 1.0             0.0   \n",
       "606                           0.0                 0.0             0.0   \n",
       "\n",
       "      TechSupport_No internet service  TechSupport_Yes  PaperlessBilling_No  \\\n",
       "6417                              0.0              0.0                  0.0   \n",
       "1948                              0.0              0.0                  1.0   \n",
       "4497                              0.0              0.0                  0.0   \n",
       "66                                0.0              0.0                  0.0   \n",
       "1705                              0.0              1.0                  1.0   \n",
       "...                               ...              ...                  ...   \n",
       "2626                              0.0              0.0                  1.0   \n",
       "6573                              0.0              1.0                  1.0   \n",
       "6443                              1.0              0.0                  1.0   \n",
       "2760                              1.0              0.0                  0.0   \n",
       "606                               0.0              1.0                  1.0   \n",
       "\n",
       "      PaperlessBilling_Yes  PaymentMethod_Bank transfer (automatic)  \\\n",
       "6417                   1.0                                      0.0   \n",
       "1948                   0.0                                      0.0   \n",
       "4497                   1.0                                      0.0   \n",
       "66                     1.0                                      0.0   \n",
       "1705                   0.0                                      0.0   \n",
       "...                    ...                                      ...   \n",
       "2626                   0.0                                      0.0   \n",
       "6573                   0.0                                      1.0   \n",
       "6443                   0.0                                      1.0   \n",
       "2760                   1.0                                      0.0   \n",
       "606                    0.0                                      0.0   \n",
       "\n",
       "      PaymentMethod_Credit card (automatic)  PaymentMethod_Electronic check  \\\n",
       "6417                                    0.0                             1.0   \n",
       "1948                                    0.0                             1.0   \n",
       "4497                                    0.0                             1.0   \n",
       "66                                      0.0                             1.0   \n",
       "1705                                    0.0                             1.0   \n",
       "...                                     ...                             ...   \n",
       "2626                                    0.0                             1.0   \n",
       "6573                                    0.0                             0.0   \n",
       "6443                                    0.0                             0.0   \n",
       "2760                                    1.0                             0.0   \n",
       "606                                     1.0                             0.0   \n",
       "\n",
       "      PaymentMethod_Mailed check  \n",
       "6417                         0.0  \n",
       "1948                         0.0  \n",
       "4497                         0.0  \n",
       "66                           0.0  \n",
       "1705                         0.0  \n",
       "...                          ...  \n",
       "2626                         0.0  \n",
       "6573                         0.0  \n",
       "6443                         0.0  \n",
       "2760                         0.0  \n",
       "606                          0.0  \n",
       "\n",
       "[1761 rows x 22 columns]"
      ]
     },
     "execution_count": 33,
     "metadata": {},
     "output_type": "execute_result"
    }
   ],
   "source": [
    "val_inputs"
   ]
  },
  {
   "cell_type": "code",
   "execution_count": 34,
   "id": "b1a2b9c0-a9da-4703-9877-e2b8e2e1e826",
   "metadata": {},
   "outputs": [
    {
     "data": {
      "text/plain": [
       "6417    Yes\n",
       "1948    Yes\n",
       "4497     No\n",
       "66       No\n",
       "1705     No\n",
       "       ... \n",
       "2626     No\n",
       "6573     No\n",
       "6443     No\n",
       "2760     No\n",
       "606      No\n",
       "Name: Churn, Length: 1761, dtype: object"
      ]
     },
     "execution_count": 34,
     "metadata": {},
     "output_type": "execute_result"
    }
   ],
   "source": [
    "val_targets"
   ]
  },
  {
   "cell_type": "code",
   "execution_count": null,
   "id": "489e0b0c-2bef-49db-a556-74b07431950c",
   "metadata": {},
   "outputs": [],
   "source": []
  },
  {
   "cell_type": "code",
   "execution_count": null,
   "id": "3a60c3c4-b51f-4fb5-9c51-cd7b23ade725",
   "metadata": {},
   "outputs": [],
   "source": []
  },
  {
   "cell_type": "markdown",
   "id": "c38c05b0-bebc-4c80-8b1d-aac60c50f40f",
   "metadata": {},
   "source": [
    "Training Logistics Regression"
   ]
  },
  {
   "cell_type": "code",
   "execution_count": 35,
   "id": "454bbe4a-85fa-4818-8bc3-0d040ed57cfd",
   "metadata": {},
   "outputs": [],
   "source": [
    "from sklearn.linear_model import LogisticRegression"
   ]
  },
  {
   "cell_type": "code",
   "execution_count": 36,
   "id": "650f966a-314d-4ec6-b389-f954f7199840",
   "metadata": {},
   "outputs": [],
   "source": [
    "model = LogisticRegression(solver='liblinear')"
   ]
  },
  {
   "cell_type": "code",
   "execution_count": 37,
   "id": "b9a271f3-9e9d-4fa7-abb1-a1a70c77a32e",
   "metadata": {},
   "outputs": [
    {
     "data": {
      "text/plain": [
       "LogisticRegression(solver='liblinear')"
      ]
     },
     "execution_count": 37,
     "metadata": {},
     "output_type": "execute_result"
    }
   ],
   "source": [
    "model.fit(train_inputs[numeric_cols + encoded_cols], train_targets)"
   ]
  },
  {
   "cell_type": "code",
   "execution_count": 38,
   "id": "1e9f2b90-8852-4687-9aad-556dd2742054",
   "metadata": {},
   "outputs": [
    {
     "name": "stdout",
     "output_type": "stream",
     "text": [
      "['SeniorCitizen', 'tenure', 'MonthlyCharges', 'gender_Female', 'gender_Male', 'InternetService_DSL', 'InternetService_Fiber optic', 'InternetService_No', 'TechSupport_No', 'TechSupport_No internet service', 'TechSupport_Yes', 'PaperlessBilling_No', 'PaperlessBilling_Yes', 'PaymentMethod_Bank transfer (automatic)', 'PaymentMethod_Credit card (automatic)', 'PaymentMethod_Electronic check', 'PaymentMethod_Mailed check']\n"
     ]
    }
   ],
   "source": [
    "print(numeric_cols + encoded_cols)"
   ]
  },
  {
   "cell_type": "code",
   "execution_count": 39,
   "id": "fb358867-0695-444b-9c62-5ee94a3d94f0",
   "metadata": {},
   "outputs": [
    {
     "name": "stdout",
     "output_type": "stream",
     "text": [
      "[[0.33051414667593243, -2.9537750234926685, 0.2116352424020868, -0.10277364295215576, -0.11367022664495315, -0.3311496737753989, 0.623568700524266, -0.5088628963461865, 0.40738732771346464, -0.5088628963461865, -0.1149683009644623, -0.3563557669335568, 0.1399118973361931, -0.11596995717020246, -0.22618064416684774, 0.32347101154455293, -0.19776427980471317]]\n"
     ]
    }
   ],
   "source": [
    "print(model.coef_.tolist())"
   ]
  },
  {
   "cell_type": "code",
   "execution_count": 40,
   "id": "be1a69d4-a1b0-4f35-a24e-ff7df4755c89",
   "metadata": {},
   "outputs": [
    {
     "name": "stdout",
     "output_type": "stream",
     "text": [
      "[-0.21644387]\n"
     ]
    }
   ],
   "source": [
    "print(model.intercept_)"
   ]
  },
  {
   "cell_type": "markdown",
   "id": "34fee9d4-833e-4e60-bb65-360d6982a7d2",
   "metadata": {},
   "source": [
    "Making Predictions and Evaluating Models"
   ]
  },
  {
   "cell_type": "code",
   "execution_count": 41,
   "id": "28f54cec-8822-46f0-bf7e-cc0c1490fac6",
   "metadata": {},
   "outputs": [],
   "source": [
    "X_train = train_inputs[numeric_cols + encoded_cols]\n",
    "X_val = val_inputs[numeric_cols + encoded_cols]\n",
    "X_test = test_inputs[numeric_cols + encoded_cols]"
   ]
  },
  {
   "cell_type": "code",
   "execution_count": 42,
   "id": "29d5d552-1c8e-47e1-ad4f-cf354ffbbb49",
   "metadata": {},
   "outputs": [],
   "source": [
    "train_preds = model.predict(X_train)"
   ]
  },
  {
   "cell_type": "code",
   "execution_count": 43,
   "id": "7ee7e47f-c0f9-42dd-aecb-6cdb81dbfa89",
   "metadata": {},
   "outputs": [
    {
     "data": {
      "text/plain": [
       "array(['Yes', 'No', 'No', ..., 'No', 'No', 'No'], dtype=object)"
      ]
     },
     "execution_count": 43,
     "metadata": {},
     "output_type": "execute_result"
    }
   ],
   "source": [
    "train_preds"
   ]
  },
  {
   "cell_type": "code",
   "execution_count": 44,
   "id": "c9d7fcc8-630c-4cfd-a1d0-a9d4dfe63bca",
   "metadata": {},
   "outputs": [
    {
     "data": {
      "text/plain": [
       "6643     No\n",
       "4923     No\n",
       "3169     No\n",
       "672     Yes\n",
       "3004    Yes\n",
       "       ... \n",
       "1180     No\n",
       "3441     No\n",
       "1344     No\n",
       "4623     No\n",
       "1289     No\n",
       "Name: Churn, Length: 5281, dtype: object"
      ]
     },
     "execution_count": 44,
     "metadata": {},
     "output_type": "execute_result"
    }
   ],
   "source": [
    "train_targets"
   ]
  },
  {
   "cell_type": "code",
   "execution_count": 45,
   "id": "2dd63e0d-b4eb-41ea-8936-491a5905618d",
   "metadata": {},
   "outputs": [
    {
     "data": {
      "text/plain": [
       "array([[0.25696872, 0.74303128],\n",
       "       [0.90770977, 0.09229023],\n",
       "       [0.91211902, 0.08788098],\n",
       "       ...,\n",
       "       [0.95413118, 0.04586882],\n",
       "       [0.83383359, 0.16616641],\n",
       "       [0.97649282, 0.02350718]])"
      ]
     },
     "execution_count": 45,
     "metadata": {},
     "output_type": "execute_result"
    }
   ],
   "source": [
    "train_probs = model.predict_proba(X_train)\n",
    "train_probs"
   ]
  },
  {
   "cell_type": "code",
   "execution_count": 46,
   "id": "6fa5c0d0-d548-4e2a-b13c-d18cb5c46469",
   "metadata": {},
   "outputs": [
    {
     "data": {
      "text/plain": [
       "array(['No', 'Yes'], dtype=object)"
      ]
     },
     "execution_count": 46,
     "metadata": {},
     "output_type": "execute_result"
    }
   ],
   "source": [
    "model.classes_"
   ]
  },
  {
   "cell_type": "code",
   "execution_count": 47,
   "id": "34a2fa88-e3db-414d-bb9d-57b1fd06584a",
   "metadata": {},
   "outputs": [],
   "source": [
    "from sklearn.metrics import accuracy_score"
   ]
  },
  {
   "cell_type": "code",
   "execution_count": 48,
   "id": "87c642ea-c5a4-4a62-8376-a6246be2ac5f",
   "metadata": {},
   "outputs": [
    {
     "data": {
      "text/plain": [
       "0.797576216625639"
      ]
     },
     "execution_count": 48,
     "metadata": {},
     "output_type": "execute_result"
    }
   ],
   "source": [
    "accuracy_score(train_targets, train_preds)"
   ]
  },
  {
   "cell_type": "code",
   "execution_count": null,
   "id": "b377bc9d-0d0f-438a-bb9b-a9f48c00e9ce",
   "metadata": {},
   "outputs": [],
   "source": []
  },
  {
   "cell_type": "code",
   "execution_count": null,
   "id": "8b367259-7a67-4595-aaf4-5ce9195dd155",
   "metadata": {},
   "outputs": [],
   "source": []
  },
  {
   "cell_type": "markdown",
   "id": "52c411b7-7468-487a-824a-14d184e04f60",
   "metadata": {},
   "source": [
    "Confusion Matrix"
   ]
  },
  {
   "cell_type": "code",
   "execution_count": 49,
   "id": "cb62458c-9fe7-4c5d-b4b4-bf7285a3de41",
   "metadata": {},
   "outputs": [],
   "source": [
    "from sklearn.metrics import confusion_matrix"
   ]
  },
  {
   "cell_type": "code",
   "execution_count": 50,
   "id": "7249f8b9-1abb-496b-920e-142bb442e791",
   "metadata": {},
   "outputs": [
    {
     "data": {
      "text/plain": [
       "array([[0.90272374, 0.09727626],\n",
       "       [0.48667602, 0.51332398]])"
      ]
     },
     "execution_count": 50,
     "metadata": {},
     "output_type": "execute_result"
    }
   ],
   "source": [
    "confusion_matrix(train_targets, train_preds, normalize='true')"
   ]
  },
  {
   "cell_type": "code",
   "execution_count": 51,
   "id": "301ce675-370f-4eeb-8a07-27a43d90d9ed",
   "metadata": {},
   "outputs": [],
   "source": [
    "#Importing all graphical libraries.\n",
    "\n",
    "\n",
    "# import plotly.express as px\n",
    "# import matplotlib\n",
    "# import matplotlib.pyplot as plt\n",
    "# import seaborn as sns\n",
    "# %matplotlib inline\n",
    "\n",
    "# import plotly.io as pio\n",
    "# pio.renderers.default = 'iframe'\n",
    "# from IPython.display import HTML\n",
    "\n",
    "\n",
    "sns.set_style('darkgrid')\n",
    "matplotlib.rcParams['font.size']=14\n",
    "matplotlib.rcParams['figure.figsize']=(10,6)\n",
    "matplotlib.rcParams['figure.facecolor']='#00000000'"
   ]
  },
  {
   "cell_type": "code",
   "execution_count": 52,
   "id": "22196faf-f976-424b-9cf9-6c6c076f1d76",
   "metadata": {},
   "outputs": [],
   "source": [
    "def predict_and_plot(inputs, targets, name=''):\n",
    "    preds = model.predict(inputs)\n",
    "    \n",
    "    accuracy = accuracy_score(targets, preds)\n",
    "    print(\"Accuracy: {:.2f}%\".format(accuracy * 100))\n",
    "    \n",
    "    cf = confusion_matrix(targets, preds, normalize='true')\n",
    "    plt.figure()\n",
    "    sns.heatmap(cf, annot=True)\n",
    "    plt.xlabel('Prediction')\n",
    "    plt.ylabel('Target')\n",
    "    plt.title('{} Confusion Matrix'.format(name));\n",
    "    \n",
    "    return preds"
   ]
  },
  {
   "cell_type": "code",
   "execution_count": 53,
   "id": "6aa16eea-1f92-43b3-9c8d-8ef4ff4def4e",
   "metadata": {},
   "outputs": [
    {
     "name": "stdout",
     "output_type": "stream",
     "text": [
      "Accuracy: 79.76%\n"
     ]
    },
    {
     "data": {
      "image/png": "[encoded data removed]",
      "text/plain": [
       "<Figure size 720x432 with 2 Axes>"
      ]
     },
     "metadata": {
      "needs_background": "light"
     },
     "output_type": "display_data"
    }
   ],
   "source": [
    "train_preds = predict_and_plot(X_train, train_targets, 'Training')"
   ]
  },
  {
   "cell_type": "code",
   "execution_count": 54,
   "id": "21095f99-54ea-41f8-a513-3543a50da67f",
   "metadata": {},
   "outputs": [
    {
     "name": "stdout",
     "output_type": "stream",
     "text": [
      "Accuracy: 79.67%\n"
     ]
    },
    {
     "data": {
      "image/png": "[encoded data removed]",
      "text/plain": [
       "<Figure size 720x432 with 2 Axes>"
      ]
     },
     "metadata": {
      "needs_background": "light"
     },
     "output_type": "display_data"
    }
   ],
   "source": [
    "val_preds = predict_and_plot(X_val, val_targets, 'Validatiaon')"
   ]
  },
  {
   "cell_type": "code",
   "execution_count": 55,
   "id": "21ca2029-ed6a-4bf5-ad8a-93174f34a104",
   "metadata": {},
   "outputs": [
    {
     "name": "stdout",
     "output_type": "stream",
     "text": [
      "Accuracy: 80.06%\n"
     ]
    },
    {
     "data": {
      "image/png": "[encoded data removed]",
      "text/plain": [
       "<Figure size 720x432 with 2 Axes>"
      ]
     },
     "metadata": {
      "needs_background": "light"
     },
     "output_type": "display_data"
    }
   ],
   "source": [
    "test_preds = predict_and_plot(X_test, test_targets, 'Test')"
   ]
  },
  {
   "cell_type": "code",
   "execution_count": 56,
   "id": "9dd83690-7c73-496e-adb7-4b1bddd4cf85",
   "metadata": {},
   "outputs": [],
   "source": [
    "def random_guess(inputs):\n",
    "    return np.random.choice([\"No\", \"Yes\"], len(inputs))"
   ]
  },
  {
   "cell_type": "code",
   "execution_count": 57,
   "id": "15cd9ff1-9c99-4454-8037-a856fd90c320",
   "metadata": {},
   "outputs": [],
   "source": [
    "def all_no(inputs):\n",
    "    return np.full(len(inputs), \"No\")"
   ]
  },
  {
   "cell_type": "code",
   "execution_count": 58,
   "id": "7103ea5c-d5c9-4365-81ee-5b45b2593cb5",
   "metadata": {},
   "outputs": [
    {
     "data": {
      "text/plain": [
       "0.48403122782114977"
      ]
     },
     "execution_count": 58,
     "metadata": {},
     "output_type": "execute_result"
    }
   ],
   "source": [
    "accuracy_score(test_targets, random_guess(X_test))"
   ]
  },
  {
   "cell_type": "code",
   "execution_count": 59,
   "id": "ff86e200-2a7e-47be-9ddb-1e335b3f7b7a",
   "metadata": {},
   "outputs": [
    {
     "data": {
      "text/plain": [
       "0.7601135557132718"
      ]
     },
     "execution_count": 59,
     "metadata": {},
     "output_type": "execute_result"
    }
   ],
   "source": [
    "accuracy_score(test_targets, all_no(X_test))"
   ]
  },
  {
   "cell_type": "markdown",
   "id": "36535ead-2634-42f9-b5ba-84bdaa5ec0c8",
   "metadata": {},
   "source": [
    "Our random model gives arounf 48% accuracy whereas our model achieves 76%. However we have eliminated some columns to reduce the dataset size. "
   ]
  },
  {
   "cell_type": "code",
   "execution_count": null,
   "id": "19616778-166e-428f-9a0c-77611e80d676",
   "metadata": {},
   "outputs": [],
   "source": []
  }
 ],
 "metadata": {
  "kernelspec": {
   "display_name": "Python 3 (ipykernel)",
   "language": "python",
   "name": "python3"
  },
  "language_info": {
   "codemirror_mode": {
    "name": "ipython",
    "version": 3
   },
   "file_extension": ".py",
   "mimetype": "text/x-python",
   "name": "python",
   "nbconvert_exporter": "python",
   "pygments_lexer": "ipython3",
   "version": "3.9.7"
  }
 },
 "nbformat": 4,
 "nbformat_minor": 5
}
